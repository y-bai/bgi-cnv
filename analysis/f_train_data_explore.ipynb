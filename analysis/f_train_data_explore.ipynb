{
 "cells": [
  {
   "cell_type": "markdown",
   "metadata": {},
   "source": [
    "# Train & Test Sample Ids"
   ]
  },
  {
   "cell_type": "code",
   "execution_count": 11,
   "metadata": {},
   "outputs": [],
   "source": [
    "import sys\n",
    "import numpy as np\n",
    "sys.path.append('..')\n",
    "from dataset_train import get_train_test_ids"
   ]
  },
  {
   "cell_type": "code",
   "execution_count": 2,
   "metadata": {},
   "outputs": [
    {
     "name": "stderr",
     "output_type": "stream",
     "text": [
      "2019-09-18 11:41:11,529 - dataset_train.load_data - INFO - Loading training and testing sample ids...\n"
     ]
    }
   ],
   "source": [
    "data_dir = '/zfssz2/ST_MCHRI/BIGDATA/PROJECT/NIPT_CNV/f_cnv_out/data'\n",
    "sample_list = '/zfssz6/ST_MCHRI/BIGDATA/P18Z10200N0124/NIPT_CNV/sample.list'\n",
    "train_ids, test_ids = get_train_test_ids(data_dir, sample_list)"
   ]
  },
  {
   "cell_type": "code",
   "execution_count": 3,
   "metadata": {},
   "outputs": [
    {
     "data": {
      "text/plain": [
       "2252"
      ]
     },
     "execution_count": 3,
     "metadata": {},
     "output_type": "execute_result"
    }
   ],
   "source": [
    "len(train_ids)"
   ]
  },
  {
   "cell_type": "code",
   "execution_count": 4,
   "metadata": {},
   "outputs": [
    {
     "data": {
      "text/plain": [
       "252"
      ]
     },
     "execution_count": 4,
     "metadata": {},
     "output_type": "execute_result"
    }
   ],
   "source": [
    "len(test_ids)"
   ]
  },
  {
   "cell_type": "code",
   "execution_count": 5,
   "metadata": {},
   "outputs": [
    {
     "data": {
      "text/plain": [
       "set()"
      ]
     },
     "execution_count": 5,
     "metadata": {},
     "output_type": "execute_result"
    }
   ],
   "source": [
    "set(train_ids).intersection(set(test_ids))"
   ]
  },
  {
   "cell_type": "code",
   "execution_count": 6,
   "metadata": {},
   "outputs": [
    {
     "data": {
      "text/plain": [
       "(array([251]),)"
      ]
     },
     "execution_count": 6,
     "metadata": {},
     "output_type": "execute_result"
    }
   ],
   "source": [
    "np.where(test_ids=='NA12878')"
   ]
  },
  {
   "cell_type": "markdown",
   "metadata": {},
   "source": [
    "# Data Samples\n",
    "\n",
    "Note: for the NEU type, we only randomly selected 20 NEU fragments and then slided, for eaxample 1000bp-long, window on each of the NEU fragment."
   ]
  },
  {
   "cell_type": "code",
   "execution_count": 2,
   "metadata": {},
   "outputs": [],
   "source": [
    "import os\n",
    "import pandas as pd"
   ]
  },
  {
   "cell_type": "code",
   "execution_count": 17,
   "metadata": {},
   "outputs": [
    {
     "name": "stdout",
     "output_type": "stream",
     "text": [
      "No. of DEL in train dataset:  2417746\n",
      "No. of DUP in train dataset:  5409698\n",
      "No. of NEU in train dataset:  39482942\n"
     ]
    }
   ],
   "source": [
    "# load the data samples\n",
    "# one file corresponding one CNV feature map.\n",
    "\n",
    "# window size\n",
    "win = 1000\n",
    "# min frequence of CNV among 1KGP project (ie, CNV is treated as CNP)\n",
    "f = 0.01\n",
    "# min ratio of base coverage within the given window\n",
    "r = 0.1\n",
    "\n",
    "data_root_dir = '/zfssz2/ST_MCHRI/BIGDATA/PROJECT/NIPT_CNV/f_cnv_out/data'\n",
    "# feature map list file\n",
    "feat_fn_list = os.path.join(data_root_dir, 'w{0}_r{1:.2f}_f{2:.2f}_train_all.csv'.format(win, r, f))\n",
    "\n",
    "n_del = 0\n",
    "n_dup = 0\n",
    "n_neu = 0\n",
    "\n",
    "for fns_pd in pd.read_csv(feat_fn_list, \n",
    "                                       sep='\\t', \n",
    "                                       chunksize=500000):\n",
    "    \n",
    "    n_del += fns_pd[fns_pd['cnv_type_encode'] == 1].shape[0]\n",
    "    n_dup += fns_pd[fns_pd['cnv_type_encode'] == 2].shape[0]\n",
    "    n_neu += fns_pd[fns_pd['cnv_type_encode'] == 0].shape[0]\n",
    "\n",
    "print('No. of DEL in train dataset: ', n_del)\n",
    "print('No. of DUP in train dataset: ', n_dup)\n",
    "print('No. of NEU in train dataset: ', n_neu)\n"
   ]
  },
  {
   "cell_type": "code",
   "execution_count": 18,
   "metadata": {},
   "outputs": [
    {
     "name": "stdout",
     "output_type": "stream",
     "text": [
      "No. of DEL in test dataset:  269204\n",
      "No. of DUP in test dataset:  603561\n",
      "No. of NEU in test dataset:  4396104\n"
     ]
    }
   ],
   "source": [
    "# load the data samples\n",
    "# one file corresponding one CNV feature map.\n",
    "\n",
    "# window size\n",
    "win = 1000\n",
    "# min frequence of CNV among 1KGP project (ie, CNV is treated as CNP)\n",
    "f = 0.01\n",
    "# min ratio of base coverage within the given window\n",
    "r = 0.1\n",
    "\n",
    "data_root_dir = '/zfssz2/ST_MCHRI/BIGDATA/PROJECT/NIPT_CNV/f_cnv_out/data'\n",
    "# feature map list file\n",
    "feat_fn_list = os.path.join(data_root_dir, 'w{0}_r{1:.2f}_f{2:.2f}_test.csv'.format(win, r, f))\n",
    "\n",
    "n_del = 0\n",
    "n_dup = 0\n",
    "n_neu = 0\n",
    "\n",
    "for fns_pd in pd.read_csv(feat_fn_list, \n",
    "                                       sep='\\t', \n",
    "                                       chunksize=500000):\n",
    "    \n",
    "    n_del += fns_pd[fns_pd['cnv_type_encode'] == 1].shape[0]\n",
    "    n_dup += fns_pd[fns_pd['cnv_type_encode'] == 2].shape[0]\n",
    "    n_neu += fns_pd[fns_pd['cnv_type_encode'] == 0].shape[0]\n",
    "\n",
    "print('No. of DEL in test dataset: ', n_del)\n",
    "print('No. of DUP in test dataset: ', n_dup)\n",
    "print('No. of NEU in test dataset: ', n_neu)"
   ]
  },
  {
   "cell_type": "code",
   "execution_count": 1,
   "metadata": {},
   "outputs": [],
   "source": [
    "import os\n",
    "import pandas as pd"
   ]
  },
  {
   "cell_type": "code",
   "execution_count": 2,
   "metadata": {},
   "outputs": [
    {
     "data": {
      "text/html": [
       "<div>\n",
       "<style scoped>\n",
       "    .dataframe tbody tr th:only-of-type {\n",
       "        vertical-align: middle;\n",
       "    }\n",
       "\n",
       "    .dataframe tbody tr th {\n",
       "        vertical-align: top;\n",
       "    }\n",
       "\n",
       "    .dataframe thead th {\n",
       "        text-align: right;\n",
       "    }\n",
       "</style>\n",
       "<table border=\"1\" class=\"dataframe\">\n",
       "  <thead>\n",
       "    <tr style=\"text-align: right;\">\n",
       "      <th></th>\n",
       "      <th>f_name</th>\n",
       "      <th>cnv_type_encode</th>\n",
       "    </tr>\n",
       "  </thead>\n",
       "  <tbody>\n",
       "    <tr>\n",
       "      <th>0</th>\n",
       "      <td>/zfssz2/ST_MCHRI/BIGDATA/PROJECT/NIPT_CNV/f_cn...</td>\n",
       "      <td>1</td>\n",
       "    </tr>\n",
       "    <tr>\n",
       "      <th>1</th>\n",
       "      <td>/zfssz2/ST_MCHRI/BIGDATA/PROJECT/NIPT_CNV/f_cn...</td>\n",
       "      <td>0</td>\n",
       "    </tr>\n",
       "    <tr>\n",
       "      <th>2</th>\n",
       "      <td>/zfssz2/ST_MCHRI/BIGDATA/PROJECT/NIPT_CNV/f_cn...</td>\n",
       "      <td>1</td>\n",
       "    </tr>\n",
       "    <tr>\n",
       "      <th>3</th>\n",
       "      <td>/zfssz2/ST_MCHRI/BIGDATA/PROJECT/NIPT_CNV/f_cn...</td>\n",
       "      <td>0</td>\n",
       "    </tr>\n",
       "    <tr>\n",
       "      <th>4</th>\n",
       "      <td>/zfssz2/ST_MCHRI/BIGDATA/PROJECT/NIPT_CNV/f_cn...</td>\n",
       "      <td>1</td>\n",
       "    </tr>\n",
       "  </tbody>\n",
       "</table>\n",
       "</div>"
      ],
      "text/plain": [
       "                                              f_name  cnv_type_encode\n",
       "0  /zfssz2/ST_MCHRI/BIGDATA/PROJECT/NIPT_CNV/f_cn...                1\n",
       "1  /zfssz2/ST_MCHRI/BIGDATA/PROJECT/NIPT_CNV/f_cn...                0\n",
       "2  /zfssz2/ST_MCHRI/BIGDATA/PROJECT/NIPT_CNV/f_cn...                1\n",
       "3  /zfssz2/ST_MCHRI/BIGDATA/PROJECT/NIPT_CNV/f_cn...                0\n",
       "4  /zfssz2/ST_MCHRI/BIGDATA/PROJECT/NIPT_CNV/f_cn...                1"
      ]
     },
     "execution_count": 2,
     "metadata": {},
     "output_type": "execute_result"
    }
   ],
   "source": [
    "in_data_dir = '/zfssz2/ST_MCHRI/BIGDATA/PROJECT/NIPT_CNV/f_cnv_out/data'\n",
    "train_sample_fn = os.path.join(in_data_dir,'w1000_r0.10_f0.01_train_train.csv')\n",
    "\n",
    "train_sample_df = pd.read_csv(train_sample_fn, sep='\\t')\n",
    "\n",
    "train_sample_df.head()"
   ]
  },
  {
   "cell_type": "code",
   "execution_count": 10,
   "metadata": {},
   "outputs": [
    {
     "data": {
      "text/plain": [
       "(1000, 13)"
      ]
     },
     "execution_count": 10,
     "metadata": {},
     "output_type": "execute_result"
    }
   ],
   "source": [
    "import numpy as np\n",
    "for i,(ind,i_row) in enumerate(train_sample_df.iterrows()):\n",
    "    if i > 0:\n",
    "        break\n",
    "    with np.load(i_row['f_name']) as i_feat_map:\n",
    "        i_feat = i_feat_map['x']\n",
    "i_feat.shape"
   ]
  },
  {
   "cell_type": "code",
   "execution_count": 5,
   "metadata": {},
   "outputs": [],
   "source": [
    "i_row = next(iter_row)"
   ]
  },
  {
   "cell_type": "code",
   "execution_count": 6,
   "metadata": {},
   "outputs": [
    {
     "data": {
      "text/plain": [
       "(0, f_name             /zfssz2/ST_MCHRI/BIGDATA/PROJECT/NIPT_CNV/f_cn...\n",
       " cnv_type_encode                                                    1\n",
       " Name: 0, dtype: object)"
      ]
     },
     "execution_count": 6,
     "metadata": {},
     "output_type": "execute_result"
    }
   ],
   "source": [
    "i_row"
   ]
  },
  {
   "cell_type": "code",
   "execution_count": null,
   "metadata": {},
   "outputs": [],
   "source": []
  }
 ],
 "metadata": {
  "kernelspec": {
   "display_name": "Python 3",
   "language": "python",
   "name": "python3"
  },
  "language_info": {
   "codemirror_mode": {
    "name": "ipython",
    "version": 3
   },
   "file_extension": ".py",
   "mimetype": "text/x-python",
   "name": "python",
   "nbconvert_exporter": "python",
   "pygments_lexer": "ipython3",
   "version": "3.6.5"
  }
 },
 "nbformat": 4,
 "nbformat_minor": 2
}
