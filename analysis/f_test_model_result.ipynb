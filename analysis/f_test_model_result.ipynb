{
 "cells": [
  {
   "cell_type": "code",
   "execution_count": 2,
   "metadata": {},
   "outputs": [
    {
     "name": "stderr",
     "output_type": "stream",
     "text": [
      "/zfssz2/ST_MCHRI/BIGDATA/USER/baiyong/anaconda3/lib/python3.6/site-packages/h5py/__init__.py:36: FutureWarning: Conversion of the second argument of issubdtype from `float` to `np.floating` is deprecated. In future, it will be treated as `np.float64 == np.dtype(float).type`.\n",
      "  from ._conv import register_converters as _register_converters\n"
     ]
    }
   ],
   "source": [
    "import os\n",
    "import numpy as np\n",
    "import h5py"
   ]
  },
  {
   "cell_type": "code",
   "execution_count": 3,
   "metadata": {},
   "outputs": [],
   "source": [
    "# load test results\n",
    "test_result_root_dir = '/zfssz2/ST_MCHRI/BIGDATA/PROJECT/NIPT_CNV/f_cnv_out'"
   ]
  },
  {
   "cell_type": "code",
   "execution_count": 4,
   "metadata": {},
   "outputs": [],
   "source": [
    "def out_name(n_win_size=1000, epochs=50, batch=512, \n",
    "             learn_rate=0.001, drop=0.1,\n",
    "             fc_size=32, blocks='4_4_1', cw='221'):\n",
    "    str_blocks = [str(x) for x in blocks.split('_')]\n",
    "    str_blk = ''.join(str_blocks)\n",
    "    return 'b{0}_e{1}_lr{2:.3f}_dr{3:.1f}_fc{4}_blk{5}_win{6}_cw{7}'.format(\n",
    "            batch, epochs, learn_rate, drop, fc_size, str_blk, n_win_size, cw)"
   ]
  },
  {
   "cell_type": "code",
   "execution_count": 5,
   "metadata": {},
   "outputs": [
    {
     "name": "stdout",
     "output_type": "stream",
     "text": [
      "b512_e50_lr0.001_dr0.1_fc32_blk441_win1000_cw221\n"
     ]
    }
   ],
   "source": [
    "win_size = 1000\n",
    "model_params = {'n_win_size': win_size,\n",
    "                    'epochs': 50,\n",
    "                    'batch': 512,\n",
    "                    'learn_rate': 0.001,\n",
    "                    'drop': 0.1,\n",
    "                    'fc_size': 32,\n",
    "                    'blocks': '4_4_1',\n",
    "               'cw':'221'}\n",
    "test_res_fn = out_name(**model_params)\n",
    "print(test_res_fn)"
   ]
  },
  {
   "cell_type": "code",
   "execution_count": 8,
   "metadata": {},
   "outputs": [],
   "source": [
    "# load the test results using the model trained by 1:1:1 training dataset\n",
    "test_res_dir = os.path.join(test_result_root_dir, 'model111/test_out')\n",
    "test_res_fname = os.path.join(test_res_dir, test_res_fn+'-offline-test.h5')"
   ]
  },
  {
   "cell_type": "code",
   "execution_count": 9,
   "metadata": {},
   "outputs": [],
   "source": [
    "with h5py.File(test_res_fname, 'r') as test_out:\n",
    "    ypred = test_out.get('ypred').value\n",
    "    ytrue = test_out.get('ytrue').value"
   ]
  },
  {
   "cell_type": "code",
   "execution_count": 10,
   "metadata": {},
   "outputs": [],
   "source": [
    "ypred_l = np.argmax(ypred, axis=1)"
   ]
  },
  {
   "cell_type": "code",
   "execution_count": 11,
   "metadata": {},
   "outputs": [],
   "source": [
    "from sklearn.metrics import confusion_matrix\n",
    "from sklearn.metrics import classification_report\n",
    "#from pandas_ml import ConfusionMatrix\n",
    "from sklearn.utils.multiclass import unique_labels\n",
    "import matplotlib.pyplot as plt\n",
    "import seaborn as sns\n",
    "%matplotlib inline\n",
    "\n",
    "def plot_confusion_matrix(y_true, y_pred, classes,\n",
    "                          normalize=False,\n",
    "                          title=None,\n",
    "                          cmap=plt.cm.Blues):\n",
    "    \"\"\"\n",
    "    This function prints and plots the confusion matrix.\n",
    "    Normalization can be applied by setting `normalize=True`.\n",
    "    \"\"\"\n",
    "    if not title:\n",
    "        if normalize:\n",
    "            title = 'Normalized confusion matrix'\n",
    "        else:\n",
    "            title = 'Confusion matrix, without normalization'\n",
    "\n",
    "    # Compute confusion matrix\n",
    "    cm = confusion_matrix(y_true, y_pred)\n",
    "    # Only use the labels that appear in the data\n",
    "    classes = classes[unique_labels(y_true, y_pred)]\n",
    "    if normalize:\n",
    "        cm = cm.astype('float') / cm.sum(axis=1)[:, np.newaxis]\n",
    "        print(\"Normalized confusion matrix\")\n",
    "    else:\n",
    "        print('Confusion matrix, without normalization')\n",
    "\n",
    "    print(cm)\n",
    "\n",
    "    fig, ax = plt.subplots()\n",
    "    im = ax.imshow(cm, interpolation='nearest', cmap=cmap)\n",
    "    ax.figure.colorbar(im, ax=ax)\n",
    "    # We want to show all ticks...\n",
    "    ax.set(xticks=np.arange(cm.shape[1]),\n",
    "           yticks=np.arange(cm.shape[0]),\n",
    "           # ... and label them with the respective list entries\n",
    "           xticklabels=classes, yticklabels=classes,\n",
    "           title=title,\n",
    "           ylabel='True label',\n",
    "           xlabel='Predicted label')\n",
    "\n",
    "    # Rotate the tick labels and set their alignment.\n",
    "    plt.setp(ax.get_xticklabels(), rotation=45, ha=\"right\",\n",
    "             rotation_mode=\"anchor\")\n",
    "\n",
    "    # Loop over data dimensions and create text annotations.\n",
    "    fmt = '.4f' if normalize else 'd'\n",
    "    thresh = cm.max() / 2.\n",
    "    for i in range(cm.shape[0]):\n",
    "        for j in range(cm.shape[1]):\n",
    "            ax.text(j, i, format(cm[i, j], fmt),\n",
    "                    ha=\"center\", va=\"center\",\n",
    "                    color=\"white\" if cm[i, j] > thresh else \"black\")\n",
    "    fig.tight_layout()\n",
    "    return ax"
   ]
  },
  {
   "cell_type": "code",
   "execution_count": 12,
   "metadata": {},
   "outputs": [
    {
     "data": {
      "text/plain": [
       "5268869"
      ]
     },
     "execution_count": 12,
     "metadata": {},
     "output_type": "execute_result"
    }
   ],
   "source": [
    "len(ytrue)"
   ]
  },
  {
   "cell_type": "code",
   "execution_count": 13,
   "metadata": {},
   "outputs": [
    {
     "name": "stdout",
     "output_type": "stream",
     "text": [
      "Confusion matrix, without normalization\n",
      "[[4376224   14216    5664]\n",
      " [     45  266509    2650]\n",
      " [      8    7928  595625]]\n"
     ]
    },
    {
     "data": {
      "text/plain": [
       "<matplotlib.axes._subplots.AxesSubplot at 0x7fe980053780>"
      ]
     },
     "execution_count": 13,
     "metadata": {},
     "output_type": "execute_result"
    },
    {
     "data": {
      "image/png": "[encoded data removed]",
      "text/plain": [
       "<Figure size 432x288 with 2 Axes>"
      ]
     },
     "metadata": {},
     "output_type": "display_data"
    }
   ],
   "source": [
    "class_names=np.array(['NEU','DEL','DUP'])\n",
    "plot_confusion_matrix(ytrue, ypred_l[:len(ytrue)], classes=class_names, normalize=False,title='CNV predict')\n"
   ]
  },
  {
   "cell_type": "code",
   "execution_count": 14,
   "metadata": {},
   "outputs": [],
   "source": [
    "#  calculate \n",
    "def get_cls_reports(y_true,y_pred):\n",
    "    from sklearn.metrics import confusion_matrix\n",
    "    cm = confusion_matrix(y_true, y_pred)\n",
    "    \n",
    "    FP = cm.sum(axis=0) - np.diag(cm)  \n",
    "    FN = cm.sum(axis=1) - np.diag(cm)\n",
    "    TP = np.diag(cm)\n",
    "    TN = cm.sum() - (FP + FN + TP)\n",
    "    \n",
    "    # Sensitivity, hit rate, recall, or true positive rate\n",
    "    TPR = TP/(TP+FN)\n",
    "    \n",
    "    # Specificity or true negative rate\n",
    "    TNR = TN/(TN+FP) \n",
    "    \n",
    "    # Precision or positive predictive value\n",
    "    PPV = TP/(TP+FP)\n",
    "\n",
    "    # Negative predictive value\n",
    "    NPV = TN/(TN+FN)\n",
    "\n",
    "    # Fall out or false positive rate\n",
    "    FPR = FP/(FP+TN)\n",
    "\n",
    "    # False negative rate or Miss Rate\n",
    "    FNR = FN/(TP+FN)\n",
    "    \n",
    "    # False discovery rate\n",
    "    FDR = FP/(TP+FP)\n",
    "    \n",
    "    # Overall accuracy\n",
    "    ACC = (TP+TN)/(TP+FP+FN+TN)\n",
    "    \n",
    "    return (TPR, TNR, PPV,NPV,FPR,FNR,FDR,ACC)"
   ]
  },
  {
   "cell_type": "code",
   "execution_count": 15,
   "metadata": {},
   "outputs": [
    {
     "name": "stdout",
     "output_type": "stream",
     "text": [
      "(array([0.99547781, 0.989989  , 0.98685137]), array([0.99993927, 0.9955709 , 0.99821791]), array([0.99998789, 0.92328505, 0.98623371]), array([0.97772779, 0.99945886, 0.9982988 ]), array([6.07265415e-05, 4.42909675e-03, 1.78209027e-03]), array([0.00452219, 0.010011  , 0.01314863]), array([1.21107508e-05, 7.67149484e-02, 1.37662910e-02]), array([0.99621684, 0.99528571, 0.99691585]))\n"
     ]
    }
   ],
   "source": [
    "print(get_cls_reports(ytrue, ypred_l[:len(ytrue)]))"
   ]
  },
  {
   "cell_type": "code",
   "execution_count": 16,
   "metadata": {},
   "outputs": [
    {
     "name": "stdout",
     "output_type": "stream",
     "text": [
      "Predict       0             1             2             \n",
      "Actual\n",
      "0             4376224       14216         5664          \n",
      "\n",
      "1             45            266509        2650          \n",
      "\n",
      "2             8             7928          595625        \n",
      "\n",
      "\n",
      "\n",
      "\n",
      "\n",
      "Overall Statistics : \n",
      "\n",
      "95% CI                                                            (0.99414,0.99427)\n",
      "ACC Macro                                                         0.99614\n",
      "AUNP                                                              0.99686\n",
      "AUNU                                                              0.99434\n",
      "Bennett S                                                         0.99131\n",
      "CBA                                                               0.96833\n",
      "Chi-Squared                                                       9923120.23802\n",
      "Chi-Squared DF                                                    4\n",
      "Conditional Entropy                                               0.05385\n",
      "Cramer V                                                          0.9704\n",
      "Cross Entropy                                                     0.79549\n",
      "F1 Macro                                                          0.97991\n",
      "F1 Micro                                                          0.99421\n",
      "Gwet AC1                                                          0.99322\n",
      "Hamming Loss                                                      0.00579\n",
      "Joint Entropy                                                     0.84915\n",
      "KL Divergence                                                     0.0002\n",
      "Kappa                                                             0.9801\n",
      "Kappa 95% CI                                                      (0.97988,0.98033)\n",
      "Kappa No Prevalence                                               0.98842\n",
      "Kappa Standard Error                                              0.00011\n",
      "Kappa Unbiased                                                    0.9801\n",
      "Lambda A                                                          0.96504\n",
      "Lambda B                                                          0.96582\n",
      "Mutual Information                                                0.75632\n",
      "NIR                                                               0.83435\n",
      "Overall ACC                                                       0.99421\n",
      "Overall CEN                                                       0.02195\n",
      "Overall J                                                         (2.88365,0.96122)\n",
      "Overall MCC                                                       0.9802\n",
      "Overall MCEN                                                      0.03807\n",
      "Overall RACC                                                      0.70894\n",
      "Overall RACCU                                                     0.70894\n",
      "P-Value                                                           None\n",
      "PPV Macro                                                         0.96984\n",
      "PPV Micro                                                         0.99421\n",
      "Pearson C                                                         0.8082\n",
      "Phi-Squared                                                       1.88335\n",
      "RCI                                                               0.95099\n",
      "RR                                                                1756289.66667\n",
      "Reference Entropy                                                 0.7953\n",
      "Response Entropy                                                  0.81018\n",
      "SOA1(Landis & Koch)                                               Almost Perfect\n",
      "SOA2(Fleiss)                                                      Excellent\n",
      "SOA3(Altman)                                                      Very Good\n",
      "SOA4(Cicchetti)                                                   Excellent\n",
      "SOA5(Cramer)                                                      Very Strong\n",
      "SOA6(Matthews)                                                    Very Strong\n",
      "Scott PI                                                          0.9801\n",
      "Standard Error                                                    3e-05\n",
      "TPR Macro                                                         0.99077\n",
      "TPR Micro                                                         0.99421\n",
      "Zero-one Loss                                                     30511\n",
      "\n",
      "Class Statistics :\n",
      "\n",
      "Classes                                                           0             1             2             \n",
      "ACC(Accuracy)                                                     0.99622       0.99529       0.99692       \n",
      "AGF(Adjusted F-score)                                             0.98921       0.98722       0.99249       \n",
      "AGM(Adjusted geometric mean)                                      0.99802       0.99414       0.99519       \n",
      "AM(Difference between automatic and manual classification)        -19827        19449         378           \n",
      "AUC(Area under the ROC curve)                                     0.99771       0.99278       0.99253       \n",
      "AUCI(AUC value interpretation)                                    Excellent     Excellent     Excellent     \n",
      "AUPR(Area under the PR curve)                                     0.99773       0.95664       0.98654       \n",
      "BCD(Bray-Curtis dissimilarity)                                    0.00188       0.00185       4e-05         \n",
      "BM(Informedness or bookmaker informedness)                        0.99542       0.98556       0.98507       \n",
      "CEN(Confusion entropy)                                            0.01099       0.12994       0.05169       \n",
      "DOR(Diagnostic odds ratio)                                        3624751.52755 22228.49904   42040.4075    \n",
      "DP(Discriminant power)                                            3.61632       2.39658       2.54916       \n",
      "DPI(Discriminant power interpretation)                            Good          Fair          Fair          \n",
      "ERR(Error rate)                                                   0.00378       0.00471       0.00308       \n",
      "F0.5(F0.5 score)                                                  0.99908       0.9359        0.98636       \n",
      "F1(F1 score - harmonic mean of precision and sensitivity)         0.99773       0.95547       0.98654       \n",
      "F2(F2 score)                                                      0.99638       0.97589       0.98673       \n",
      "FDR(False discovery rate)                                         1e-05         0.07671       0.01377       \n",
      "FN(False negative/miss/type 2 error)                              19880         2695          7936          \n",
      "FNR(Miss rate or false negative rate)                             0.00452       0.01001       0.01315       \n",
      "FOR(False omission rate)                                          0.02227       0.00054       0.0017        \n",
      "FP(False positive/type 1 error/false alarm)                       53            22144         8314          \n",
      "FPR(Fall-out or false positive rate)                              6e-05         0.00443       0.00178       \n",
      "G(G-measure geometric mean of precision and sensitivity)          0.99773       0.95606       0.98654       \n",
      "GI(Gini index)                                                    0.99542       0.98556       0.98507       \n",
      "GM(G-mean geometric mean of specificity and sensitivity)          0.99771       0.99278       0.99252       \n",
      "IBA(Index of balanced accuracy)                                   0.99098       0.9801        0.9739        \n",
      "IS(Information score)                                             0.26125       4.17557       3.10592       \n",
      "J(Jaccard index)                                                  0.99547       0.91474       0.97344       \n",
      "LS(Lift score)                                                    1.19852       18.07056      8.60946       \n",
      "MCC(Matthews correlation coefficient)                             0.98653       0.95363       0.9848        \n",
      "MCCI(Matthews correlation coefficient interpretation)             Very Strong   Very Strong   Very Strong   \n",
      "MCEN(Modified confusion entropy)                                  0.01966       0.20886       0.08899       \n",
      "MK(Markedness)                                                    0.97772       0.92274       0.98453       \n",
      "N(Condition negative)                                             872765        4999665       4665308       \n",
      "NLR(Negative likelihood ratio)                                    0.00452       0.01006       0.01317       \n",
      "NLRI(Negative likelihood ratio interpretation)                    Good          Good          Good          \n",
      "NPV(Negative predictive value)                                    0.97773       0.99946       0.9983        \n",
      "OC(Overlap coefficient)                                           0.99999       0.98999       0.98685       \n",
      "OOC(Otsuka-Ochiai coefficient)                                    0.99773       0.95606       0.98654       \n",
      "OP(Optimized precision)                                           0.99398       0.99247       0.99119       \n",
      "P(Condition positive or support)                                  4396104       269204        603561        \n",
      "PLR(Positive likelihood ratio)                                    16392.79612   223.51939     553.7606      \n",
      "PLRI(Positive likelihood ratio interpretation)                    Good          Good          Good          \n",
      "POP(Population)                                                   5268869       5268869       5268869       \n",
      "PPV(Precision or positive predictive value)                       0.99999       0.92329       0.98623       \n",
      "PRE(Prevalence)                                                   0.83435       0.05109       0.11455       \n",
      "Q(Yule Q - coefficient of colligation)                            1.0           0.99991       0.99995       \n",
      "RACC(Random accuracy)                                             0.69301       0.0028        0.01313       \n",
      "RACCU(Random accuracy unbiased)                                   0.69301       0.0028        0.01313       \n",
      "TN(True negative/correct rejection)                               872712        4977521       4656994       \n",
      "TNR(Specificity or true negative rate)                            0.99994       0.99557       0.99822       \n",
      "TON(Test outcome negative)                                        892592        4980216       4664930       \n",
      "TOP(Test outcome positive)                                        4376277       288653        603939        \n",
      "TP(True positive/hit)                                             4376224       266509        595625        \n",
      "TPR(Sensitivity, recall, hit rate, or true positive rate)         0.99548       0.98999       0.98685       \n",
      "Y(Youden index)                                                   0.99542       0.98556       0.98507       \n",
      "dInd(Distance index)                                              0.00452       0.01095       0.01327       \n",
      "sInd(Similarity index)                                            0.9968        0.99226       0.99062       \n",
      "\n"
     ]
    }
   ],
   "source": [
    "from pycm import ConfusionMatrix\n",
    "confusion_matrix1 = ConfusionMatrix(ytrue, ypred_l[:len(ytrue)])\n",
    "#confusion_matrix.print_stats()\n",
    "print(confusion_matrix1)"
   ]
  },
  {
   "cell_type": "code",
   "execution_count": 18,
   "metadata": {},
   "outputs": [],
   "source": [
    "y_pred = ypred[:len(ytrue)]"
   ]
  },
  {
   "cell_type": "code",
   "execution_count": 29,
   "metadata": {},
   "outputs": [],
   "source": [
    "from sklearn.preprocessing import OneHotEncoder\n",
    "enc=OneHotEncoder(n_values=3,sparse=False)\n",
    "y_true = enc.fit_transform(ytrue.reshape(-1,1))"
   ]
  },
  {
   "cell_type": "code",
   "execution_count": 30,
   "metadata": {},
   "outputs": [
    {
     "data": {
      "text/plain": [
       "array([0., 1., 0.])"
      ]
     },
     "execution_count": 30,
     "metadata": {},
     "output_type": "execute_result"
    }
   ],
   "source": [
    "y_true[0]"
   ]
  },
  {
   "cell_type": "code",
   "execution_count": 32,
   "metadata": {},
   "outputs": [],
   "source": [
    "# Compute ROC curve and ROC area for each class\n",
    "from sklearn.metrics import roc_curve, auc\n",
    "n_classes = 3\n",
    "fpr = dict()\n",
    "tpr = dict()\n",
    "roc_auc = dict()\n",
    "for i in range(n_classes):\n",
    "    fpr[i], tpr[i], _ = roc_curve(y_true[:, i], y_pred[:, i])\n",
    "    roc_auc[i] = auc(fpr[i], tpr[i])\n",
    "\n",
    "# Compute micro-average ROC curve and ROC area\n",
    "fpr[\"micro\"], tpr[\"micro\"], _ = roc_curve(y_true.ravel(), y_pred.ravel())\n",
    "roc_auc[\"micro\"] = auc(fpr[\"micro\"], tpr[\"micro\"])"
   ]
  },
  {
   "cell_type": "code",
   "execution_count": 34,
   "metadata": {},
   "outputs": [
    {
     "data": {
      "image/png": "[encoded data removed]",
      "text/plain": [
       "<Figure size 432x288 with 1 Axes>"
      ]
     },
     "metadata": {},
     "output_type": "display_data"
    }
   ],
   "source": [
    "lw = 2\n",
    "from itertools import cycle\n",
    "colors = cycle(['aqua', 'darkorange', 'cornflowerblue'])\n",
    "for i, color in zip(range(n_classes), colors):\n",
    "    plt.plot(fpr[i], tpr[i], color=color, lw=lw,\n",
    "             label='ROC curve of class {0} (area = {1:0.2f})'\n",
    "             ''.format(i, roc_auc[i]))"
   ]
  },
  {
   "cell_type": "code",
   "execution_count": 40,
   "metadata": {},
   "outputs": [
    {
     "name": "stdout",
     "output_type": "stream",
     "text": [
      "Average precision score, micro-averaged over all classes: 1.00\n"
     ]
    }
   ],
   "source": [
    "from sklearn.metrics import precision_recall_curve\n",
    "from sklearn.metrics import average_precision_score\n",
    "\n",
    "precision = dict()\n",
    "recall = dict()\n",
    "thresh = dict()\n",
    "average_precision = dict()\n",
    "for i in range(n_classes):\n",
    "    precision[i], recall[i], thresh[i] = precision_recall_curve(y_true[:, i],\n",
    "                                                        y_pred[:, i])\n",
    "    average_precision[i] = average_precision_score(y_true[:, i], y_pred[:, i])\n",
    "\n",
    "# A \"micro-average\": quantifying score on all classes jointly\n",
    "precision[\"micro\"], recall[\"micro\"], _ = precision_recall_curve(y_true.ravel(),\n",
    "    y_pred.ravel())\n",
    "average_precision[\"micro\"] = average_precision_score(y_true, y_pred,\n",
    "                                                     average=\"micro\")\n",
    "print('Average precision score, micro-averaged over all classes: {0:0.2f}'\n",
    "      .format(average_precision[\"micro\"]))\n",
    "    "
   ]
  },
  {
   "cell_type": "code",
   "execution_count": 41,
   "metadata": {},
   "outputs": [
    {
     "data": {
      "text/plain": [
       "array([0.8347706 , 0.83477057, 0.83477073, ..., 0.99999794, 0.99999904,\n",
       "       1.        ])"
      ]
     },
     "execution_count": 41,
     "metadata": {},
     "output_type": "execute_result"
    }
   ],
   "source": [
    "precision[0]"
   ]
  },
  {
   "cell_type": "code",
   "execution_count": 42,
   "metadata": {},
   "outputs": [
    {
     "data": {
      "text/plain": [
       "array([1.        , 0.99999977, 0.99999977, ..., 0.55160683, 0.47373265,\n",
       "       0.        ])"
      ]
     },
     "execution_count": 42,
     "metadata": {},
     "output_type": "execute_result"
    }
   ],
   "source": [
    "recall[0]"
   ]
  },
  {
   "cell_type": "code",
   "execution_count": 43,
   "metadata": {},
   "outputs": [
    {
     "data": {
      "text/plain": [
       "array([9.9770664e-15, 9.9827771e-15, 9.9830820e-15, ..., 9.9999976e-01,\n",
       "       9.9999988e-01, 1.0000000e+00], dtype=float32)"
      ]
     },
     "execution_count": 43,
     "metadata": {},
     "output_type": "execute_result"
    }
   ],
   "source": [
    "thresh[0]"
   ]
  },
  {
   "cell_type": "code",
   "execution_count": 50,
   "metadata": {},
   "outputs": [
    {
     "data": {
      "text/plain": [
       "(array([782695, 782696, 782697, ..., 948445, 948446, 948447]),)"
      ]
     },
     "execution_count": 50,
     "metadata": {},
     "output_type": "execute_result"
    }
   ],
   "source": [
    "neu_prec = precision[0]\n",
    "np.where(neu_prec>0.99)"
   ]
  },
  {
   "cell_type": "code",
   "execution_count": 70,
   "metadata": {},
   "outputs": [
    {
     "data": {
      "text/plain": [
       "(array([     0,      1,      2, ..., 910948, 910949, 910950]),)"
      ]
     },
     "execution_count": 70,
     "metadata": {},
     "output_type": "execute_result"
    }
   ],
   "source": [
    "neu_recall = recall[0]\n",
    "np.where(neu_recall>0.98)"
   ]
  },
  {
   "cell_type": "code",
   "execution_count": 71,
   "metadata": {},
   "outputs": [
    {
     "data": {
      "text/plain": [
       "0.9800000181979316"
      ]
     },
     "execution_count": 71,
     "metadata": {},
     "output_type": "execute_result"
    }
   ],
   "source": [
    "neu_recall[910950]"
   ]
  },
  {
   "cell_type": "code",
   "execution_count": 52,
   "metadata": {},
   "outputs": [],
   "source": [
    "neu_thresh = thresh[0]"
   ]
  },
  {
   "cell_type": "code",
   "execution_count": 72,
   "metadata": {},
   "outputs": [
    {
     "data": {
      "text/plain": [
       "0.99391997"
      ]
     },
     "execution_count": 72,
     "metadata": {},
     "output_type": "execute_result"
    }
   ],
   "source": [
    "neu_thresh[910950]"
   ]
  },
  {
   "cell_type": "code",
   "execution_count": 66,
   "metadata": {},
   "outputs": [],
   "source": [
    "# https://towardsdatascience.com/fine-tuning-a-classifier-in-scikit-learn-66e048c21e65\n",
    "def adjusted_classes(y_scores, t):\n",
    "    \"\"\"\n",
    "    This function adjusts class predictions based on the prediction threshold (t).\n",
    "    Will only work for binary classification problems.\n",
    "    \"\"\"\n",
    "    return [1 if y >= t else 0 for y in y_scores]\n",
    "\n",
    "def precision_recall_threshold(p, r, thresholds, t=0.5):\n",
    "    \"\"\"\n",
    "    plots the precision recall curve and shows the current value for each\n",
    "    by identifying the classifier's threshold (t).\n",
    "    \"\"\"\n",
    "    \n",
    "    # generate new class predictions based on the adjusted_classes\n",
    "    # function above and view the resulting confusion matrix.\n",
    "    y_pred_adj = adjusted_classes(y_scores, t)\n",
    "    print(pd.DataFrame(confusion_matrix(y_test, y_pred_adj),\n",
    "                       columns=['pred_neg', 'pred_pos'], \n",
    "                       index=['neg', 'pos']))\n",
    "    \n",
    "    # plot the curve\n",
    "    plt.figure(figsize=(8,8))\n",
    "    plt.title(\"Precision and Recall curve ^ = current threshold\")\n",
    "    plt.step(r, p, color='b', alpha=0.2,\n",
    "             where='post')\n",
    "    plt.fill_between(r, p, step='post', alpha=0.2,\n",
    "                     color='b')\n",
    "    plt.ylim([0.5, 1.01]);\n",
    "    plt.xlim([0.5, 1.01]);\n",
    "    plt.xlabel('Recall');\n",
    "    plt.ylabel('Precision');\n",
    "    \n",
    "    # plot the current threshold on the line\n",
    "    close_default_clf = np.argmin(np.abs(thresholds - t))\n",
    "    plt.plot(r[close_default_clf], p[close_default_clf], '^', c='k',\n",
    "            markersize=15)"
   ]
  },
  {
   "cell_type": "code",
   "execution_count": 67,
   "metadata": {},
   "outputs": [
    {
     "ename": "NameError",
     "evalue": "name 'y_scores' is not defined",
     "output_type": "error",
     "traceback": [
      "\u001b[0;31m---------------------------------------------------------------------------\u001b[0m",
      "\u001b[0;31mNameError\u001b[0m                                 Traceback (most recent call last)",
      "\u001b[0;32m<ipython-input-67-3d84f4520c5a>\u001b[0m in \u001b[0;36m<module>\u001b[0;34m()\u001b[0m\n\u001b[0;32m----> 1\u001b[0;31m \u001b[0mprecision_recall_threshold\u001b[0m\u001b[0;34m(\u001b[0m\u001b[0mneu_prec\u001b[0m\u001b[0;34m,\u001b[0m \u001b[0mneu_recall\u001b[0m\u001b[0;34m,\u001b[0m \u001b[0mneu_thresh\u001b[0m\u001b[0;34m,\u001b[0m \u001b[0mt\u001b[0m\u001b[0;34m=\u001b[0m\u001b[0;36m0.8\u001b[0m\u001b[0;34m)\u001b[0m\u001b[0;34m\u001b[0m\u001b[0m\n\u001b[0m",
      "\u001b[0;32m<ipython-input-66-61c1cb6939b6>\u001b[0m in \u001b[0;36mprecision_recall_threshold\u001b[0;34m(p, r, thresholds, t)\u001b[0m\n\u001b[1;32m     15\u001b[0m     \u001b[0;31m# generate new class predictions based on the adjusted_classes\u001b[0m\u001b[0;34m\u001b[0m\u001b[0;34m\u001b[0m\u001b[0m\n\u001b[1;32m     16\u001b[0m     \u001b[0;31m# function above and view the resulting confusion matrix.\u001b[0m\u001b[0;34m\u001b[0m\u001b[0;34m\u001b[0m\u001b[0m\n\u001b[0;32m---> 17\u001b[0;31m     \u001b[0my_pred_adj\u001b[0m \u001b[0;34m=\u001b[0m \u001b[0madjusted_classes\u001b[0m\u001b[0;34m(\u001b[0m\u001b[0my_scores\u001b[0m\u001b[0;34m,\u001b[0m \u001b[0mt\u001b[0m\u001b[0;34m)\u001b[0m\u001b[0;34m\u001b[0m\u001b[0m\n\u001b[0m\u001b[1;32m     18\u001b[0m     print(pd.DataFrame(confusion_matrix(y_test, y_pred_adj),\n\u001b[1;32m     19\u001b[0m                        \u001b[0mcolumns\u001b[0m\u001b[0;34m=\u001b[0m\u001b[0;34m[\u001b[0m\u001b[0;34m'pred_neg'\u001b[0m\u001b[0;34m,\u001b[0m \u001b[0;34m'pred_pos'\u001b[0m\u001b[0;34m]\u001b[0m\u001b[0;34m,\u001b[0m\u001b[0;34m\u001b[0m\u001b[0m\n",
      "\u001b[0;31mNameError\u001b[0m: name 'y_scores' is not defined"
     ]
    }
   ],
   "source": [
    "precision_recall_threshold(neu_prec, neu_recall, neu_thresh, t=0.8)"
   ]
  },
  {
   "cell_type": "code",
   "execution_count": 68,
   "metadata": {},
   "outputs": [],
   "source": [
    "def plot_precision_recall_vs_threshold(precisions, recalls, thresholds):\n",
    "    \"\"\"\n",
    "    Modified from:\n",
    "    Hands-On Machine learning with Scikit-Learn\n",
    "    and TensorFlow; p.89\n",
    "    \"\"\"\n",
    "    plt.figure(figsize=(8, 8))\n",
    "    plt.title(\"Precision and Recall Scores as a function of the decision threshold\")\n",
    "    plt.plot(thresholds, precisions[:-1], \"b--\", label=\"Precision\")\n",
    "    plt.plot(thresholds, recalls[:-1], \"g-\", label=\"Recall\")\n",
    "    plt.ylabel(\"Score\")\n",
    "    plt.xlabel(\"Decision Threshold\")\n",
    "    plt.legend(loc='best')"
   ]
  },
  {
   "cell_type": "code",
   "execution_count": 69,
   "metadata": {},
   "outputs": [
    {
     "data": {
      "image/png": "[encoded data removed]",
      "text/plain": [
       "<Figure size 576x576 with 1 Axes>"
      ]
     },
     "metadata": {},
     "output_type": "display_data"
    }
   ],
   "source": [
    "plot_precision_recall_vs_threshold(neu_prec, neu_recall, neu_thresh)"
   ]
  },
  {
   "cell_type": "code",
   "execution_count": null,
   "metadata": {},
   "outputs": [],
   "source": []
  },
  {
   "cell_type": "code",
   "execution_count": 39,
   "metadata": {},
   "outputs": [
    {
     "data": {
      "text/plain": [
       "<matplotlib.legend.Legend at 0x7fe8fcc93ba8>"
      ]
     },
     "execution_count": 39,
     "metadata": {},
     "output_type": "execute_result"
    },
    {
     "data": {
      "image/png": "[encoded data removed]",
      "text/plain": [
       "<Figure size 504x576 with 1 Axes>"
      ]
     },
     "metadata": {},
     "output_type": "display_data"
    }
   ],
   "source": [
    "colors = cycle(['navy', 'turquoise', 'darkorange', 'cornflowerblue', 'teal'])\n",
    "\n",
    "plt.figure(figsize=(7, 8))\n",
    "f_scores = np.linspace(0.2, 0.8, num=4)\n",
    "lines = []\n",
    "labels = []\n",
    "for f_score in f_scores:\n",
    "    x = np.linspace(0.01, 1)\n",
    "    y = f_score * x / (2 * x - f_score)\n",
    "    l, = plt.plot(x[y >= 0], y[y >= 0], color='gray', alpha=0.2)\n",
    "    plt.annotate('f1={0:0.1f}'.format(f_score), xy=(0.9, y[45] + 0.02))\n",
    "\n",
    "lines.append(l)\n",
    "labels.append('iso-f1 curves')\n",
    "l, = plt.plot(recall[\"micro\"], precision[\"micro\"], color='gold', lw=2)\n",
    "lines.append(l)\n",
    "labels.append('micro-average Precision-recall (area = {0:0.2f})'\n",
    "              ''.format(average_precision[\"micro\"]))\n",
    "for i, color in zip(range(n_classes), colors):\n",
    "    l, = plt.plot(recall[i], precision[i], color=color, lw=2)\n",
    "    lines.append(l)\n",
    "    labels.append('Precision-recall for class {0} (area = {1:0.2f})'\n",
    "                  ''.format(i, average_precision[i]))\n",
    "fig = plt.gcf()\n",
    "fig.subplots_adjust(bottom=0.25)\n",
    "plt.xlim([0.0, 1.0])\n",
    "plt.ylim([0.0, 1.05])\n",
    "plt.xlabel('Recall')\n",
    "plt.ylabel('Precision')\n",
    "plt.title('Extension of Precision-Recall curve to multi-class')\n",
    "plt.legend(lines, labels, loc=(0, -.38), prop=dict(size=14))"
   ]
  },
  {
   "cell_type": "code",
   "execution_count": null,
   "metadata": {},
   "outputs": [],
   "source": []
  }
 ],
 "metadata": {
  "kernelspec": {
   "display_name": "Python 3",
   "language": "python",
   "name": "python3"
  },
  "language_info": {
   "codemirror_mode": {
    "name": "ipython",
    "version": 3
   },
   "file_extension": ".py",
   "mimetype": "text/x-python",
   "name": "python",
   "nbconvert_exporter": "python",
   "pygments_lexer": "ipython3",
   "version": "3.6.5"
  }
 },
 "nbformat": 4,
 "nbformat_minor": 2
}
