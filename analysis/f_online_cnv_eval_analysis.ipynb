{
 "cells": [
  {
   "cell_type": "code",
   "execution_count": 1,
   "metadata": {
    "collapsed": true,
    "pycharm": {
     "is_executing": false
    }
   },
   "outputs": [],
   "source": [
    "import os\n",
    "import numpy\n",
    "import pandas as pd"
   ]
  },
  {
   "cell_type": "code",
   "execution_count": 2,
   "outputs": [],
   "source": [
    "def anal_fname(sample_id, win_size=10000, step_size=2000):\n",
    "    \"\"\"\n",
    "    \n",
    "    :param sample_id: \n",
    "    :param win_size: \n",
    "    :param step_size\n",
    "    :return: \n",
    "    \"\"\"\n",
    "    assert not sample_id is None\n",
    "    path_fmt = '/zfssz2/ST_MCHRI/BIGDATA/PROJECT/NIPT_CNV/f_cnv_out/online/1KGP/win_{0}/{1}/cnv_call'\n",
    "    return os.path.join(path_fmt.format(win_size, sample_id), \n",
    "                        'Analysis{0}_{1}_{2}_out_cnv.csv'.format(sample_id, win_size, step_size))"
   ],
   "metadata": {
    "collapsed": false,
    "pycharm": {
     "name": "#%%\n",
     "is_executing": false
    }
   }
  },
  {
   "cell_type": "code",
   "execution_count": null,
   "outputs": [],
   "source": [
    "def read_pred_f(ana_fname):\n",
    "    assert os.path.exists(ana_fname)\n",
    "    ana_res_df = pd.read_csv(ana_fname, sep='\\t')"
   ],
   "metadata": {
    "collapsed": false,
    "pycharm": {
     "name": "#%%\n"
    }
   }
  },
  {
   "cell_type": "code",
   "execution_count": 13,
   "outputs": [
    {
     "name": "stdout",
     "text": [
      "/zfssz2/ST_MCHRI/BIGDATA/PROJECT/NIPT_CNV/f_cnv_out/online/1KGP/win_10000/HG01777/cnv_call/AnalysisHG01777_10000_2000_out_cnv.csv\n"
     ],
     "output_type": "stream"
    }
   ],
   "source": [
    "win_size = 10000\n",
    "step_size = 2000\n",
    "\n",
    "sample_ids_str = 'HG01777 NA18602 HG03410 HG00533 HG01951 HG03713 HG02407 NA19059 HG02010 NA19076'\n",
    "sample_ids = sample_ids_str.split(' ')\n",
    "\n",
    "for i, sample_id in enumerate(sample_ids):\n",
    "    if i > 0:\n",
    "        break\n",
    "    s_ana_fname = anal_fname(sample_id, win_size, step_size) \n",
    "    in_out_pred = pd.read_csv(s_ana_fname, sep='\\t')\n",
    "in_out_pred.head()\n",
    "\n"
   ],
   "metadata": {
    "collapsed": false,
    "pycharm": {
     "name": "#%%\n",
     "is_executing": false
    }
   }
  },
  {
   "cell_type": "code",
   "execution_count": null,
   "outputs": [],
   "source": [
    "\n"
   ],
   "metadata": {
    "collapsed": false,
    "pycharm": {
     "name": "#%%\n"
    }
   }
  }
 ],
 "metadata": {
  "kernelspec": {
   "display_name": "Python 3",
   "language": "python",
   "name": "python3"
  },
  "language_info": {
   "codemirror_mode": {
    "name": "ipython",
    "version": 2
   },
   "file_extension": ".py",
   "mimetype": "text/x-python",
   "name": "python",
   "nbconvert_exporter": "python",
   "pygments_lexer": "ipython2",
   "version": "2.7.6"
  },
  "pycharm": {
   "stem_cell": {
    "cell_type": "raw",
    "source": [],
    "metadata": {
     "collapsed": false
    }
   }
  }
 },
 "nbformat": 4,
 "nbformat_minor": 0
}