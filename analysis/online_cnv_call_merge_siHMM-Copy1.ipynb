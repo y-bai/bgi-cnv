{
 "cells": [
  {
   "cell_type": "code",
   "execution_count": 7,
   "metadata": {},
   "outputs": [],
   "source": [
    "from __future__ import division\n",
    "\n",
    "from matplotlib import pyplot as plt\n",
    "%matplotlib inline\n",
    "from os.path import join, dirname, isfile\n",
    "import argparse\n",
    "from argparse import RawTextHelpFormatter\n",
    "from pyhsmm.pybasicbayes import distributions\n",
    "from pyhsmm import models, distributions\n",
    "from pyhsmm.util.general import sgd_passes, hold_out, get_file\n",
    "from pyhsmm.util.text import progprint_xrange, progprint\n",
    "import numpy as np\n",
    "import pandas as pd\n",
    "import scipy.io\n",
    "import os\n",
    "import sys\n",
    "from matplotlib import rc\n",
    "import pyhsmm\n",
    "from pyhsmm.util.text import progprint_xrange\n",
    "import collections\n",
    "import itertools\n",
    "import operator\n",
    "# rc('font',**{'family':'sans-serif','sans-serif':['Helvetica']})\n",
    "# rc('font',**{'family':'serif','serif':['Palatino']})\n",
    "rc('text', usetex=True)"
   ]
  },
  {
   "cell_type": "code",
   "execution_count": 8,
   "metadata": {},
   "outputs": [],
   "source": [
    "sample_id = 'NA12878'\n",
    "chr_id = '1'\n",
    "online_candidate_res_root_dir='/zfssz2/ST_MCHRI/BIGDATA/PROJECT/NIPT_CNV/f_cnv_out/online/'+sample_id+'/cnv_call'\n",
    "\n",
    "online_re_fname = 'win1000_step35_r0.10_chr1-cnv-call-a-result.csv'\n",
    "# online_re_fname = 'win1000_step200_r0.10_chr1-cnv-call-result.csv'\n",
    "# online_re_fname = 'win1000_step10_r0.10_chr1-cnv-call-p-85514777-85540460-result.csv'\n",
    "# online_re_fname = 'win1000_step35_r0.10_chr1-cnv-call-p-85514777-85540460-result.csv'\n",
    "\n",
    "online_fn = os.path.join(online_candidate_res_root_dir, online_re_fname)\n",
    "online_df = pd.read_csv(online_fn, sep='\\t')"
   ]
  },
  {
   "cell_type": "code",
   "execution_count": 9,
   "metadata": {},
   "outputs": [],
   "source": [
    "datass = online_df.loc[online_df['indicator']==3,['p_neu','p_del','p_dup']].values\n",
    "\n",
    "datass = datass[:10000]\n",
    "from pyhsmm.util.plot import pca_project_data\n",
    "xx = pca_project_data(datass,3)"
   ]
  },
  {
   "cell_type": "code",
   "execution_count": 10,
   "metadata": {},
   "outputs": [
    {
     "data": {
      "text/plain": [
       "array([[-0.74561127,  0.08462529,  0.66098575],\n",
       "       [-0.74561128,  0.08462533,  0.66098591],\n",
       "       [-0.74516289,  0.08286521,  0.65769496],\n",
       "       ...,\n",
       "       [-0.74556085,  0.0845516 ,  0.66090344],\n",
       "       [-0.73815057,  0.07839707,  0.65967285],\n",
       "       [-0.7455031 ,  0.08426875,  0.66034968]])"
      ]
     },
     "execution_count": 10,
     "metadata": {},
     "output_type": "execute_result"
    }
   ],
   "source": [
    "xx"
   ]
  },
  {
   "cell_type": "code",
   "execution_count": 12,
   "metadata": {},
   "outputs": [
    {
     "data": {
      "text/plain": [
       "[<matplotlib.lines.Line2D at 0x7f70d797c1d0>]"
      ]
     },
     "execution_count": 12,
     "metadata": {},
     "output_type": "execute_result"
    },
    {
     "data": {
      "image/png": "[encoded data removed]",
      "text/plain": [
       "<Figure size 432x288 with 3 Axes>"
      ]
     },
     "metadata": {},
     "output_type": "display_data"
    }
   ],
   "source": [
    "f3 = plt.subplot(3, 1, 1)\n",
    "plt.plot(xx[:,0])\n",
    "\n",
    "f3 = plt.subplot(3, 1, 2)\n",
    "plt.plot(xx[:,1])\n",
    "f3 = plt.subplot(3, 1, 3)\n",
    "plt.plot(xx[:,2])"
   ]
  },
  {
   "cell_type": "code",
   "execution_count": 17,
   "metadata": {},
   "outputs": [],
   "source": [
    "# sel_df = online_df[(online_df['seg_s']>=85500777) &  (online_df['seg_s']<=85548460)]\n",
    "# datass = sel_df.loc[sel_df['indicator']==3,['p_dup']].values\n",
    "datas = xx[:5000,0]\n",
    "\n",
    "exp_state = np.empty(len(online_df), dtype=int)\n",
    "indicators = online_df['indicator'].values\n",
    "\n",
    "\n",
    "N = 3 # states\n",
    "obs_dim = 1\n",
    "\n",
    "good_length = 1000\n",
    "\n",
    "num_seqs = int(len(datas)//good_length)\n",
    "\n",
    "datas_ = datas[:(num_seqs*good_length)]\n",
    "data = np.reshape(datas_, (num_seqs, good_length, obs_dim))\n",
    "data = list(data)"
   ]
  },
  {
   "cell_type": "code",
   "execution_count": 18,
   "metadata": {},
   "outputs": [
    {
     "data": {
      "text/plain": [
       "10000"
      ]
     },
     "execution_count": 18,
     "metadata": {},
     "output_type": "execute_result"
    }
   ],
   "source": [
    "len(datass)"
   ]
  },
  {
   "cell_type": "code",
   "execution_count": 19,
   "metadata": {},
   "outputs": [
    {
     "name": "stdout",
     "output_type": "stream",
     "text": [
      "loading data...\n",
      "...done!\n",
      "inference observation\n",
      "GaussianNonconjNIG(mu=10.836506,sigmasq=5260.694617)\n",
      "GaussianNonconjNIG(mu=16.261028,sigmasq=438637245.606165)\n",
      "GaussianNonconjNIG(mu=8.063854,sigmasq=20921097.579845)\n",
      "GaussianNonconjNIG(mu=13.761078,sigmasq=7.619078)\n",
      "GaussianNonconjNIG(mu=-3.301770,sigmasq=7.487363)\n",
      "GaussianNonconjNIG(mu=-35.364328,sigmasq=28184917139486886854656.000000)\n",
      "GaussianNonconjNIG(mu=48.749836,sigmasq=6053448177.002948)\n",
      "GaussianNonconjNIG(mu=29.633141,sigmasq=19.640576)\n",
      "GaussianNonconjNIG(mu=1.760630,sigmasq=5987664.290612)\n",
      "GaussianNonconjNIG(mu=25.818543,sigmasq=274109.388953)\n",
      "feature weights before mean field:  \n",
      " [ 0.         -0.01252917 -0.12710608  0.05165648  0.04021663  0.02373538\n",
      "  0.14436848 -0.2812204  -0.13229498  0.15973507  0.15918885 -0.19499178] \n",
      "\n"
     ]
    },
    {
     "name": "stderr",
     "output_type": "stream",
     "text": [
      "/zfssz2/ST_MCHRI/BIGDATA/USER/baiyong/cnv_detect_final/analysis/pyhsmm/models.py:1121: FutureWarning: arrays to stack must be passed as a \"sequence\" type such as list or tuple. Support for non-sequence iterables such as generators is deprecated as of NumPy 1.16 and will raise an error in the future.\n",
      "  mega_list_z = np.vstack(np.tile(np.diag(np.ones(nhs)),(len(s.data), 1)) for s in mb_states_list)\n"
     ]
    },
    {
     "name": "stdout",
     "output_type": "stream",
     "text": [
      "-2695.679042415727\n",
      "\n",
      ".-2313.643718498013\n",
      "\n",
      ".-1768.2010772976544\n",
      "\n",
      ".-1486.2601189593445\n",
      "\n",
      ".-1015.3975914579049\n",
      "\n",
      ".-758.2537178189235\n",
      "\n",
      ".-349.11242442376647\n",
      "\n",
      ".-136.2057276682864\n",
      "\n",
      ".174.34630664341208\n",
      "\n",
      ".317.0264555733707\n",
      "\n",
      ".546.6708577271332\n",
      "\n",
      ".650.2158874416475\n",
      "\n",
      ".788.9878496405474\n",
      "\n",
      ".837.1279945056001\n",
      "\n",
      ".884.3288324884799\n",
      "\n",
      ".895.3134022043863\n",
      "\n",
      ".899.6956125910832\n",
      "\n",
      ".902.6848346115166\n",
      "\n",
      ".900.3133590000047\n",
      "\n",
      ".901.1265208565281\n",
      "\n",
      ".899.4458031818644\n",
      "\n",
      ".899.4380859319363\n",
      "\n",
      ".896.6512551338135\n",
      "\n",
      ".898.4388607571266\n",
      "\n",
      ".898.430861778454\n",
      "\n",
      ".  [ 25 done,    3.04sec avg ]\n",
      "897.7624981285179\n",
      "\n",
      ".892.837928964997\n",
      "\n",
      ".897.98015407016\n",
      "\n",
      ".900.9214964408351\n",
      "\n",
      ".896.8187714813338\n",
      "\n",
      ".900.9086437784949\n",
      "\n",
      ".896.3173258069298\n",
      "\n",
      ".897.7501226305582\n",
      "\n",
      ".896.873708790483\n",
      "\n",
      ".903.9445902440973\n",
      "\n",
      ".897.4066553987561\n",
      "\n",
      ".896.550756329347\n",
      "\n",
      ".900.9261605202947\n",
      "\n",
      ".905.7806178632608\n",
      "\n",
      ".903.2060557306238\n",
      "\n",
      ".906.3808256202192\n",
      "\n",
      ".904.994352537558\n",
      "\n",
      ".901.7958711268114\n",
      "\n",
      ".907.4668861380403\n",
      "\n",
      ".911.3130760316229\n",
      "\n",
      ".910.866323875773\n",
      "\n",
      ".916.1282667253965\n",
      "\n",
      ".922.0949128477234\n",
      "\n",
      ".936.3025449241776\n",
      "\n",
      ".954.6530517302738\n",
      "\n",
      ".  [ 50 done,    3.04sec avg ]\n",
      "996.4557118465312\n",
      "\n",
      ".1035.945914942554\n",
      "\n",
      ".1112.5992410087274\n",
      "\n",
      ".1165.3473457891776\n",
      "\n",
      ".1246.5942068390052\n",
      "\n",
      ".1297.0649538609046\n",
      "\n",
      ".1374.7429961140454\n",
      "\n",
      ".1422.4869244872223\n",
      "\n",
      ".1497.6994148561635\n",
      "\n",
      ".1539.688926206701\n",
      "\n",
      ".\n",
      "   3.04sec avg, 03:02 total\n",
      "\n"
     ]
    }
   ],
   "source": [
    "################################ MAKE TRAIN AND TEST DATASETS IN BATCHES ##########################\n",
    "\n",
    "\n",
    "obs_dim = 1\n",
    "\n",
    "np.random.seed(100)\n",
    "print('loading data...')\n",
    "alldata = data\n",
    "allseqs = np.array(data)\n",
    "#datas, heldout = hold_out(allseqs,0.05)\n",
    "\n",
    "datas = list(allseqs[:allseqs.shape[0] - 1, :])\n",
    "heldout = list(allseqs[-1:, :])\n",
    "\n",
    "training_size = sum(data.shape[0] for data in datas)\n",
    "print('...done!')\n",
    "\n",
    "\n",
    "\n",
    "###################################################  RUN SVI or MF OVER THE TRAINING SET     ########################\n",
    "init_state_concentration = 1000.\n",
    "#kappa = 0.\n",
    "#alpha_0 = 10 #(1)\n",
    "alpha = 100#200\n",
    "gamma = 100#200\n",
    "kappa_sticky = 1\n",
    "win_size = 1\n",
    "use_obs_features = False\n",
    "N = 3#10\n",
    "infseed = 3\n",
    "\n",
    "obs_hypparams = {'h_0':np.zeros(obs_dim),\n",
    "            'J_0':np.ones(obs_dim) * 0.001, #sq_0 #changes the hidden state detection (the lower the better) #0.001\n",
    "            'alpha_0':np.ones(obs_dim) * 0.1, #(make the number of hidden states worse higher the better)\n",
    "            'beta_0':np.ones(obs_dim) * 1,\n",
    "                }\n",
    "# obs_distns = [distributions.ScalarGaussianNonconjNIG(**obs_hypparams) for state in xrange(N)]\n",
    "obs_distns = [distributions.GaussianNonconjNIG(**obs_hypparams) for state in range(N)]\n",
    "\n",
    "HDPHMMSVImodel = models.HMMSegStickyHDP(obs_dim = 1, kappa = 0, alpha=alpha,gamma=gamma,init_state_concentration=init_state_concentration,\n",
    "        obs_distns=obs_distns, bern_or_weight = 'weight', svi_or_gibbs = 'svi',\n",
    "        weight_prior_mean = 0, weight_prior_std = 0.1, win_size = win_size,  use_obs_features = use_obs_features)\n",
    "\n",
    "\n",
    "print('inference observation')\n",
    "for i in range(N):\n",
    "    print(obs_distns[i])\n",
    "\n",
    "print('feature weights before mean field: ', '\\n', HDPHMMSVImodel.feature_weights, '\\n')\n",
    "\n",
    "\n",
    "sgd_or_mf = 'sgd' #'mf' or 'sgd' choose between these two\n",
    "\n",
    "np.random.seed(infseed)\n",
    "if sgd_or_mf == 'mf':\n",
    "    print('feature weights before mean field: ', '\\n', HDPHMMSVImodel.feature_weights, '\\n')\n",
    "    for i in range(14):\n",
    "        HDPHMMSVImodel.add_data(datas[i])\n",
    "    for i in range(20):\n",
    "        print(HDPHMMSVImodel.meanfield_coordinate_descent_step(0.5))\n",
    "    print('feature weights after mean field: ', '\\n', HDPHMMSVImodel.feature_weights, '\\n')\n",
    "else:\n",
    "    scores = []\n",
    "    sgdseq = sgd_passes(tau=0.8,kappa=0.9,datalist=datas, minibatchsize=4,npasses=30) #4, 3\n",
    "    for t, (data, rho_t) in progprint(enumerate(sgdseq)):\n",
    "        HDPHMMSVImodel.meanfield_sgdstep(data, np.array(data).shape[0] / np.float(training_size)  , rho_t)\n",
    "        score = HDPHMMSVImodel.log_likelihood(heldout)\n",
    "        # print 'feature weights after mean field: ', HDPHMMSVImodel.feature_weights\n",
    "        print(score)\n",
    "        print(\"\")\n",
    "        if t % 1 == 0:\n",
    "            scores.append(score)\n",
    "    # plt.plot(scores)\n",
    "    # plt.show()"
   ]
  },
  {
   "cell_type": "code",
   "execution_count": 22,
   "metadata": {},
   "outputs": [
    {
     "name": "stdout",
     "output_type": "stream",
     "text": [
      "seq num: 0\n",
      "used: [2 7 3 5 8]\n",
      "seq num: 1\n",
      "used: [7 2 5 3 8]\n",
      "seq num: 2\n",
      "used: [2 7 8 3 5]\n",
      "seq num: 3\n",
      "used: [7 2 5 3 8]\n",
      "seq num: 4\n",
      "used: [7 2 3 5 8]\n",
      "seq num: 5\n",
      "used: [2 7 5 8 3]\n",
      "seq num: 6\n",
      "used: [2 7 8 5 3]\n",
      "seq num: 7\n",
      "used: [2 5 7 8 3]\n",
      "seq num: 8\n",
      "used: [7 5 2 3 8]\n"
     ]
    },
    {
     "ename": "NameError",
     "evalue": "name 'true_segments_0_1' is not defined",
     "output_type": "error",
     "traceback": [
      "\u001b[0;31m---------------------------------------------------------------------------\u001b[0m",
      "\u001b[0;31mNameError\u001b[0m                                 Traceback (most recent call last)",
      "\u001b[0;32m<ipython-input-22-80b2c168536a>\u001b[0m in \u001b[0;36m<module>\u001b[0;34m()\u001b[0m\n\u001b[1;32m     64\u001b[0m         \u001b[0mcurrent_i\u001b[0m \u001b[0;34m=\u001b[0m \u001b[0mi\u001b[0m\u001b[0;34m\u001b[0m\u001b[0m\n\u001b[1;32m     65\u001b[0m \u001b[0mtotal_log_prob\u001b[0m \u001b[0;34m=\u001b[0m \u001b[0;36m0\u001b[0m\u001b[0;34m\u001b[0m\u001b[0m\n\u001b[0;32m---> 66\u001b[0;31m \u001b[0;32mfor\u001b[0m \u001b[0midx\u001b[0m\u001b[0;34m,\u001b[0m \u001b[0mseg\u001b[0m \u001b[0;32min\u001b[0m \u001b[0menumerate\u001b[0m\u001b[0;34m(\u001b[0m\u001b[0mtrue_segments_0_1\u001b[0m\u001b[0;34m[\u001b[0m\u001b[0;34m:\u001b[0m\u001b[0mlen\u001b[0m\u001b[0;34m(\u001b[0m\u001b[0mall_probpairs\u001b[0m\u001b[0;34m)\u001b[0m\u001b[0;34m]\u001b[0m\u001b[0;34m)\u001b[0m\u001b[0;34m:\u001b[0m\u001b[0;34m\u001b[0m\u001b[0m\n\u001b[0m\u001b[1;32m     67\u001b[0m     \u001b[0mtotal_log_prob\u001b[0m \u001b[0;34m+=\u001b[0m \u001b[0mall_probpairs\u001b[0m\u001b[0;34m[\u001b[0m\u001b[0midx\u001b[0m\u001b[0;34m]\u001b[0m\u001b[0;34m[\u001b[0m\u001b[0;36m1\u001b[0m \u001b[0;34m-\u001b[0m \u001b[0mint\u001b[0m\u001b[0;34m(\u001b[0m\u001b[0mseg\u001b[0m\u001b[0;34m)\u001b[0m\u001b[0;34m]\u001b[0m\u001b[0;34m\u001b[0m\u001b[0m\n\u001b[1;32m     68\u001b[0m \u001b[0mprint\u001b[0m\u001b[0;34m(\u001b[0m\u001b[0;34m'log_prob: '\u001b[0m\u001b[0;34m,\u001b[0m \u001b[0mtotal_log_prob\u001b[0m\u001b[0;34m)\u001b[0m\u001b[0;34m\u001b[0m\u001b[0m\n",
      "\u001b[0;31mNameError\u001b[0m: name 'true_segments_0_1' is not defined"
     ]
    },
    {
     "data": {
      "image/png": "[encoded data removed]",
      "text/plain": [
       "<Figure size 432x288 with 1 Axes>"
      ]
     },
     "metadata": {},
     "output_type": "display_data"
    }
   ],
   "source": [
    "######################################Plotting the states and segments ###########################\n",
    "\n",
    "f3 = plt.subplot(4, 1, 3)\n",
    "all_probpairs = []\n",
    "all_state_seqs = []\n",
    "all_inferred_segs = []\n",
    "all_used_states = []\n",
    "for seq_num in range(num_seqs - 1):\n",
    "    print('seq num: ' + str(seq_num))\n",
    "    nhs = N\n",
    "\n",
    "    #Need this to choose between SVI and mean field\n",
    "    if sgd_or_mf == 'sgd':\n",
    "        s_num = -1\n",
    "        HDPHMMSVImodel.add_data(datas[seq_num], generate=False)\n",
    "        HDPHMMSVImodel.states_list[s_num].meanfieldupdate()\n",
    "    else:\n",
    "        s_num = seq_num\n",
    "\n",
    "    #States sequence\n",
    "    states_seq = HDPHMMSVImodel.states_list[s_num].expected_states.argmax(1).astype('int32')\n",
    "    states_seq = [x if x >= N else x + N for x in states_seq]\n",
    "    all_state_seqs.extend(states_seq)\n",
    "    #States usage\n",
    "    canonical_ids = collections.defaultdict(lambda x=itertools.count(): next(x))\n",
    "\n",
    "    for state in states_seq:\n",
    "        canonical_ids[state]\n",
    "    used_states = list(map(operator.itemgetter(0), sorted(canonical_ids.items(),key=operator.itemgetter(1))))\n",
    "    print('used:', np.array(used_states) - N)\n",
    "    all_used_states.extend(used_states)\n",
    "    segments_seq = []\n",
    "    for idx, (i, j) in enumerate(zip(HDPHMMSVImodel.states_list[s_num].all_expected_stats[1], HDPHMMSVImodel.states_list[s_num].data)):\n",
    "        temp_seg = 1- np.argmax((np.sum(i[:nhs]), np.sum(i[nhs:])))\n",
    "        all_probpairs.append((np.log(np.sum(i[:nhs])), np.log(np.sum(i[nhs:]))))\n",
    "        segments_seq.append(temp_seg)\n",
    "\n",
    "    cmap = plt.cm.get_cmap()\n",
    "    unused_states = [idx for idx in range(N) if idx not in used_states]\n",
    "    np.random.seed(1)\n",
    "    colorseq = np.random.RandomState(0).permutation(np.linspace(0,1,N))\n",
    "    colors = dict((idx, v if False else cmap(v)) for idx, v in zip(np.array(range(N)) + N,colorseq))\n",
    "    for state in unused_states:\n",
    "        colors[state] = cmap(1.)\n",
    "\n",
    "    temp_data = datas[seq_num]\n",
    "    min_data_point = np.min(temp_data)\n",
    "    max_data_point = np.max(temp_data)\n",
    "    #finding the segments\n",
    "    segment_indices = [i for i, j in enumerate(segments_seq) if j == 1]\n",
    "\n",
    "\n",
    "    for idx, point in enumerate(temp_data):\n",
    "        if obs_dim == 1 :\n",
    "            plt.plot(idx + seq_num * len(temp_data), point, c=colors[states_seq[idx]], marker = '.', markersize=8)\n",
    "        else:\n",
    "            plt.plot(idx + seq_num * len(temp_data), states_seq[idx], c=colors[states_seq[idx]], marker = '.', markersize=8)\n",
    "    current_i = 0\n",
    "    for i in segment_indices:\n",
    "        if i - current_i >= 0:\n",
    "#             print('inf: ', i + seq_num * len(temp_data))\n",
    "#             plt.axvline(i + seq_num * len(temp_data), color='r') #, linewidth=1\n",
    "            all_inferred_segs.append(i + seq_num * len(temp_data))\n",
    "        current_i = i\n",
    "total_log_prob = 0\n",
    "for idx, seg in enumerate(true_segments_0_1[:len(all_probpairs)]):\n",
    "    total_log_prob += all_probpairs[idx][1 - int(seg)]\n",
    "print('log_prob: ', total_log_prob)\n",
    "print('used_states: ', len(np.unique(np.array(all_used_states) - N)))\n",
    "plt.ylabel('Inf. Seg.', fontsize = lablefontsize)\n",
    "\n",
    "plt.xlim((0,xlim))\n",
    "plt.subplot(4, 1, 4)\n",
    "break_prob = [np.exp(i[0]) for i in all_probpairs]\n",
    "plt.plot(range(len(break_prob)), break_prob, marker = '.')\n",
    "plt.ylabel('Seg. Prob.', fontsize=lablefontsize)\n",
    "plt.xlabel('Time', fontsize = lablefontsize)\n",
    "plt.ylim((0,1))\n",
    "plt.xlim((0,xlim))\n",
    "f3.axes.xaxis.set_ticklabels([])\n",
    "plt.tick_params(axis='x', labelsize=16)\n",
    "plt.show()"
   ]
  },
  {
   "cell_type": "code",
   "execution_count": 21,
   "metadata": {},
   "outputs": [
    {
     "data": {
      "text/plain": [
       "[<matplotlib.lines.Line2D at 0x7f70c5f81d68>]"
      ]
     },
     "execution_count": 21,
     "metadata": {},
     "output_type": "execute_result"
    },
    {
     "data": {
      "image/png": "[encoded data removed]",
      "text/plain": [
       "<Figure size 432x288 with 1 Axes>"
      ]
     },
     "metadata": {},
     "output_type": "display_data"
    }
   ],
   "source": [
    "f3 = plt.subplot(3, 1, 1)\n",
    "plt.plot(xx[:,0])"
   ]
  },
  {
   "cell_type": "code",
   "execution_count": null,
   "metadata": {},
   "outputs": [],
   "source": []
  }
 ],
 "metadata": {
  "kernelspec": {
   "display_name": "Python 3",
   "language": "python",
   "name": "python3"
  },
  "language_info": {
   "codemirror_mode": {
    "name": "ipython",
    "version": 3
   },
   "file_extension": ".py",
   "mimetype": "text/x-python",
   "name": "python",
   "nbconvert_exporter": "python",
   "pygments_lexer": "ipython3",
   "version": "3.6.5"
  }
 },
 "nbformat": 4,
 "nbformat_minor": 2
}
