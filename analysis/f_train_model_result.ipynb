{
 "cells": [
  {
   "cell_type": "code",
   "execution_count": 7,
   "metadata": {},
   "outputs": [],
   "source": [
    "import os\n",
    "import numpy as np\n",
    "import pandas as pd"
   ]
  },
  {
   "cell_type": "code",
   "execution_count": 20,
   "metadata": {},
   "outputs": [
    {
     "data": {
      "text/plain": [
       "'b1024_e64_lr0.001_dr0.5_fc64_blk443_win1000-cnvnet'"
      ]
     },
     "execution_count": 20,
     "metadata": {},
     "output_type": "execute_result"
    }
   ],
   "source": [
    "# model paramter\n",
    "model_params = {'n_win_size': 1000,\n",
    "                'n_feat': 13,\n",
    "                'n_class': 3,\n",
    "                'epochs': 64,\n",
    "                'batch': 1024,\n",
    "                'learn_rate': 0.001,\n",
    "                'drop': 0.5,\n",
    "                'fc_size': 64,\n",
    "                'blocks': '4_4_3'}\n",
    "model_name = 'cnvnet'\n",
    "\n",
    "def model_fname(keyargs, model_name):\n",
    "    str_blocks = [str(x) for x in keyargs['blocks'].split('_')]\n",
    "    str_blk = ''.join(str_blocks)\n",
    "    return 'b{0}_e{1}_lr{2:.3f}_dr{3:.1f}_fc{4}_blk{5}_win{6}-{7}'.format(\n",
    "        keyargs['batch'], keyargs['epochs'], keyargs['learn_rate'],\n",
    "        keyargs['drop'], keyargs['fc_size'], str_blk, keyargs['n_win_size'], model_name)\n",
    "\n",
    "model_fn = model_fname(model_params, model_name)\n",
    "model_fn\n"
   ]
  },
  {
   "cell_type": "code",
   "execution_count": 25,
   "metadata": {},
   "outputs": [],
   "source": [
    "model_train_result_root_dir = '/zfssz2/ST_MCHRI/BIGDATA/' \\\n",
    "'PROJECT/NIPT_CNV/f_cnv_out'\n",
    "\n",
    "# balanced data model\n",
    "balanced_model_train_result_dir = os.path.join(\n",
    "    model_train_result_root_dir, 'model')\n",
    "\n",
    "# unbalanced data model\n",
    "# DEL:DUP:NEU=1:2:3\n",
    "unbalanced_model_train_result_dir = os.path.join(\n",
    "    model_train_result_root_dir, 'model123')\n"
   ]
  },
  {
   "cell_type": "markdown",
   "metadata": {},
   "source": [
    "# balncae dataset"
   ]
  },
  {
   "cell_type": "code",
   "execution_count": 28,
   "metadata": {},
   "outputs": [],
   "source": [
    "bal_model_csv_dir = os.path.join(balanced_model_train_result_dir, \n",
    "                                'model_csvlogger')\n",
    "bal_model_csv_fn = os.path.join(bal_model_csv_dir, model_fn)"
   ]
  },
  {
   "cell_type": "code",
   "execution_count": 33,
   "metadata": {},
   "outputs": [
    {
     "data": {
      "text/html": [
       "<div>\n",
       "<style scoped>\n",
       "    .dataframe tbody tr th:only-of-type {\n",
       "        vertical-align: middle;\n",
       "    }\n",
       "\n",
       "    .dataframe tbody tr th {\n",
       "        vertical-align: top;\n",
       "    }\n",
       "\n",
       "    .dataframe thead th {\n",
       "        text-align: right;\n",
       "    }\n",
       "</style>\n",
       "<table border=\"1\" class=\"dataframe\">\n",
       "  <thead>\n",
       "    <tr style=\"text-align: right;\">\n",
       "      <th></th>\n",
       "      <th>epoch</th>\n",
       "      <th>acc</th>\n",
       "      <th>loss</th>\n",
       "      <th>val_acc</th>\n",
       "      <th>val_loss</th>\n",
       "    </tr>\n",
       "  </thead>\n",
       "  <tbody>\n",
       "    <tr>\n",
       "      <th>35</th>\n",
       "      <td>35</td>\n",
       "      <td>0.969720</td>\n",
       "      <td>0.082501</td>\n",
       "      <td>0.983157</td>\n",
       "      <td>0.045630</td>\n",
       "    </tr>\n",
       "    <tr>\n",
       "      <th>36</th>\n",
       "      <td>36</td>\n",
       "      <td>0.969717</td>\n",
       "      <td>0.082314</td>\n",
       "      <td>0.983453</td>\n",
       "      <td>0.044894</td>\n",
       "    </tr>\n",
       "    <tr>\n",
       "      <th>37</th>\n",
       "      <td>37</td>\n",
       "      <td>0.969784</td>\n",
       "      <td>0.082308</td>\n",
       "      <td>0.983461</td>\n",
       "      <td>0.044928</td>\n",
       "    </tr>\n",
       "    <tr>\n",
       "      <th>38</th>\n",
       "      <td>38</td>\n",
       "      <td>0.969867</td>\n",
       "      <td>0.082109</td>\n",
       "      <td>0.983462</td>\n",
       "      <td>0.044826</td>\n",
       "    </tr>\n",
       "    <tr>\n",
       "      <th>39</th>\n",
       "      <td>39</td>\n",
       "      <td>0.969834</td>\n",
       "      <td>0.082158</td>\n",
       "      <td>0.983409</td>\n",
       "      <td>0.044939</td>\n",
       "    </tr>\n",
       "  </tbody>\n",
       "</table>\n",
       "</div>"
      ],
      "text/plain": [
       "    epoch       acc      loss   val_acc  val_loss\n",
       "35     35  0.969720  0.082501  0.983157  0.045630\n",
       "36     36  0.969717  0.082314  0.983453  0.044894\n",
       "37     37  0.969784  0.082308  0.983461  0.044928\n",
       "38     38  0.969867  0.082109  0.983462  0.044826\n",
       "39     39  0.969834  0.082158  0.983409  0.044939"
      ]
     },
     "execution_count": 33,
     "metadata": {},
     "output_type": "execute_result"
    }
   ],
   "source": [
    "csv_train_re = pd.read_csv(bal_model_csv_fn)\n",
    "csv_train_re.tail()"
   ]
  },
  {
   "cell_type": "code",
   "execution_count": 30,
   "metadata": {},
   "outputs": [],
   "source": [
    "import matplotlib.pyplot as plt\n",
    "%matplotlib inline"
   ]
  },
  {
   "cell_type": "code",
   "execution_count": 34,
   "metadata": {},
   "outputs": [
    {
     "data": {
      "text/plain": [
       "<matplotlib.axes._subplots.AxesSubplot at 0x7f0a97924d68>"
      ]
     },
     "execution_count": 34,
     "metadata": {},
     "output_type": "execute_result"
    },
    {
     "data": {
      "image/png": "[encoded data removed]",
      "text/plain": [
       "<Figure size 432x288 with 1 Axes>"
      ]
     },
     "metadata": {},
     "output_type": "display_data"
    }
   ],
   "source": [
    "csv_train_re.plot(x='epoch', y=['acc', 'loss', 'val_acc', 'val_loss'])"
   ]
  },
  {
   "cell_type": "markdown",
   "metadata": {},
   "source": [
    "# unbalanced dataset"
   ]
  },
  {
   "cell_type": "code",
   "execution_count": 35,
   "metadata": {},
   "outputs": [],
   "source": [
    "unbal_model_csv_dir = os.path.join(unbalanced_model_train_result_dir, \n",
    "                                'model_csvlogger')\n",
    "unbal_model_csv_fn = os.path.join(unbal_model_csv_dir, model_fn)"
   ]
  },
  {
   "cell_type": "code",
   "execution_count": 36,
   "metadata": {},
   "outputs": [
    {
     "data": {
      "text/html": [
       "<div>\n",
       "<style scoped>\n",
       "    .dataframe tbody tr th:only-of-type {\n",
       "        vertical-align: middle;\n",
       "    }\n",
       "\n",
       "    .dataframe tbody tr th {\n",
       "        vertical-align: top;\n",
       "    }\n",
       "\n",
       "    .dataframe thead th {\n",
       "        text-align: right;\n",
       "    }\n",
       "</style>\n",
       "<table border=\"1\" class=\"dataframe\">\n",
       "  <thead>\n",
       "    <tr style=\"text-align: right;\">\n",
       "      <th></th>\n",
       "      <th>epoch</th>\n",
       "      <th>acc</th>\n",
       "      <th>loss</th>\n",
       "      <th>val_acc</th>\n",
       "      <th>val_loss</th>\n",
       "    </tr>\n",
       "  </thead>\n",
       "  <tbody>\n",
       "    <tr>\n",
       "      <th>9</th>\n",
       "      <td>9</td>\n",
       "      <td>0.970570</td>\n",
       "      <td>0.082496</td>\n",
       "      <td>0.984621</td>\n",
       "      <td>0.044361</td>\n",
       "    </tr>\n",
       "    <tr>\n",
       "      <th>10</th>\n",
       "      <td>10</td>\n",
       "      <td>0.971831</td>\n",
       "      <td>0.078965</td>\n",
       "      <td>0.986730</td>\n",
       "      <td>0.037910</td>\n",
       "    </tr>\n",
       "    <tr>\n",
       "      <th>11</th>\n",
       "      <td>11</td>\n",
       "      <td>0.972730</td>\n",
       "      <td>0.076131</td>\n",
       "      <td>0.983714</td>\n",
       "      <td>0.046121</td>\n",
       "    </tr>\n",
       "    <tr>\n",
       "      <th>12</th>\n",
       "      <td>12</td>\n",
       "      <td>0.973585</td>\n",
       "      <td>0.073672</td>\n",
       "      <td>0.986200</td>\n",
       "      <td>0.039458</td>\n",
       "    </tr>\n",
       "    <tr>\n",
       "      <th>13</th>\n",
       "      <td>13</td>\n",
       "      <td>0.977510</td>\n",
       "      <td>0.062564</td>\n",
       "      <td>0.988705</td>\n",
       "      <td>0.031482</td>\n",
       "    </tr>\n",
       "  </tbody>\n",
       "</table>\n",
       "</div>"
      ],
      "text/plain": [
       "    epoch       acc      loss   val_acc  val_loss\n",
       "9       9  0.970570  0.082496  0.984621  0.044361\n",
       "10     10  0.971831  0.078965  0.986730  0.037910\n",
       "11     11  0.972730  0.076131  0.983714  0.046121\n",
       "12     12  0.973585  0.073672  0.986200  0.039458\n",
       "13     13  0.977510  0.062564  0.988705  0.031482"
      ]
     },
     "execution_count": 36,
     "metadata": {},
     "output_type": "execute_result"
    }
   ],
   "source": [
    "unb_csv_train_re = pd.read_csv(unbal_model_csv_fn)\n",
    "unb_csv_train_re.tail()"
   ]
  },
  {
   "cell_type": "code",
   "execution_count": 37,
   "metadata": {},
   "outputs": [
    {
     "data": {
      "text/plain": [
       "<matplotlib.axes._subplots.AxesSubplot at 0x7f0a979762e8>"
      ]
     },
     "execution_count": 37,
     "metadata": {},
     "output_type": "execute_result"
    },
    {
     "data": {
      "image/png": "[encoded data removed]",
      "text/plain": [
       "<Figure size 432x288 with 1 Axes>"
      ]
     },
     "metadata": {},
     "output_type": "display_data"
    }
   ],
   "source": [
    "unb_csv_train_re.plot(x='epoch', y=['acc', 'loss', 'val_acc', 'val_loss'])"
   ]
  },
  {
   "cell_type": "code",
   "execution_count": null,
   "metadata": {},
   "outputs": [],
   "source": []
  }
 ],
 "metadata": {
  "kernelspec": {
   "display_name": "Python 3",
   "language": "python",
   "name": "python3"
  },
  "language_info": {
   "codemirror_mode": {
    "name": "ipython",
    "version": 3
   },
   "file_extension": ".py",
   "mimetype": "text/x-python",
   "name": "python",
   "nbconvert_exporter": "python",
   "pygments_lexer": "ipython3",
   "version": "3.6.5"
  }
 },
 "nbformat": 4,
 "nbformat_minor": 2
}
