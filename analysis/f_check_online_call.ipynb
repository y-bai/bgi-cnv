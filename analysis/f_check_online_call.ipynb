{
 "cells": [
  {
   "cell_type": "code",
   "execution_count": 1,
   "metadata": {
    "pycharm": {
     "is_executing": false
    }
   },
   "outputs": [
    {
     "name": "stderr",
     "output_type": "stream",
     "text": [
      "/zfssz2/ST_MCHRI/BIGDATA/USER/baiyong/anaconda3/lib/python3.6/site-packages/h5py/__init__.py:36: FutureWarning: Conversion of the second argument of issubdtype from `float` to `np.floating` is deprecated. In future, it will be treated as `np.float64 == np.dtype(float).type`.\n",
      "  from ._conv import register_converters as _register_converters\n"
     ]
    }
   ],
   "source": [
    "import os\n",
    "import numpy as np\n",
    "import pandas as pd\n",
    "\n",
    "import h5py"
   ]
  },
  {
   "cell_type": "code",
   "execution_count": 2,
   "metadata": {
    "pycharm": {
     "is_executing": false
    }
   },
   "outputs": [],
   "source": [
    "from matplotlib import pyplot as plt\n",
    "import seaborn as sns\n",
    "%matplotlib inline"
   ]
  },
  {
   "cell_type": "code",
   "execution_count": 3,
   "metadata": {
    "pycharm": {
     "is_executing": false
    }
   },
   "outputs": [],
   "source": [
    "# read test file\n",
    "\n",
    "# test_fn = '/zfssz2/ST_MCHRI/BIGDATA/PROJECT/NIPT_CNV/f_cnv_out/online/1KGP/win_10000/ns10_nr5.h5'\n",
    "test_fn = '/zfssz2/ST_MCHRI/BIGDATA/PROJECT/NIPT_CNV/f_cnv_out/online/1KGP/win_10000/ns29_nr5.h5'\n",
    "#test_fn_dir = '/zfssz2/ST_MCHRI/BIGDATA/PROJECT/NIPT_CNV/f_cnv_out/online/1KGP_bak/'\n",
    "# with h5py.File(os.path.join(test_fn_dir, 'ns10_nr11.h5'),'r') as h5_fn:\n",
    "with h5py.File(test_fn,'r') as h5_fn:\n",
    "    all_tp_fp_fn = h5_fn.get('all_tp_fp_fn').value\n",
    "    del_tp_fp_fn = h5_fn.get('del_tp_fp_fn').value\n",
    "    dup_tp_fp_fn = h5_fn.get('dup_tp_fp_fn').value\n"
   ]
  },
  {
   "cell_type": "code",
   "execution_count": 27,
   "metadata": {
    "pycharm": {
     "is_executing": false
    }
   },
   "outputs": [
    {
     "data": {
      "text/html": [
       "<div>\n",
       "<style scoped>\n",
       "    .dataframe tbody tr th:only-of-type {\n",
       "        vertical-align: middle;\n",
       "    }\n",
       "\n",
       "    .dataframe tbody tr th {\n",
       "        vertical-align: top;\n",
       "    }\n",
       "\n",
       "    .dataframe thead th {\n",
       "        text-align: right;\n",
       "    }\n",
       "</style>\n",
       "<table border=\"1\" class=\"dataframe\">\n",
       "  <thead>\n",
       "    <tr style=\"text-align: right;\">\n",
       "      <th></th>\n",
       "      <th>RANGE_LOW</th>\n",
       "      <th>TP</th>\n",
       "      <th>FP</th>\n",
       "      <th>TP_FN</th>\n",
       "      <th>FN</th>\n",
       "      <th>RECALL</th>\n",
       "      <th>PRECISION</th>\n",
       "    </tr>\n",
       "  </thead>\n",
       "  <tbody>\n",
       "    <tr>\n",
       "      <th>0</th>\n",
       "      <td>2000</td>\n",
       "      <td>160</td>\n",
       "      <td>1670</td>\n",
       "      <td>927</td>\n",
       "      <td>767</td>\n",
       "      <td>0.172600</td>\n",
       "      <td>0.087432</td>\n",
       "    </tr>\n",
       "    <tr>\n",
       "      <th>1</th>\n",
       "      <td>10000</td>\n",
       "      <td>100</td>\n",
       "      <td>480</td>\n",
       "      <td>747</td>\n",
       "      <td>647</td>\n",
       "      <td>0.133869</td>\n",
       "      <td>0.172414</td>\n",
       "    </tr>\n",
       "    <tr>\n",
       "      <th>2</th>\n",
       "      <td>20000</td>\n",
       "      <td>65</td>\n",
       "      <td>180</td>\n",
       "      <td>519</td>\n",
       "      <td>454</td>\n",
       "      <td>0.125241</td>\n",
       "      <td>0.265306</td>\n",
       "    </tr>\n",
       "    <tr>\n",
       "      <th>3</th>\n",
       "      <td>50000</td>\n",
       "      <td>33</td>\n",
       "      <td>38</td>\n",
       "      <td>202</td>\n",
       "      <td>169</td>\n",
       "      <td>0.163366</td>\n",
       "      <td>0.464789</td>\n",
       "    </tr>\n",
       "    <tr>\n",
       "      <th>4</th>\n",
       "      <td>100000</td>\n",
       "      <td>7</td>\n",
       "      <td>3</td>\n",
       "      <td>68</td>\n",
       "      <td>61</td>\n",
       "      <td>0.102941</td>\n",
       "      <td>0.700000</td>\n",
       "    </tr>\n",
       "  </tbody>\n",
       "</table>\n",
       "</div>"
      ],
      "text/plain": [
       "   RANGE_LOW   TP    FP  TP_FN   FN    RECALL  PRECISION\n",
       "0       2000  160  1670    927  767  0.172600   0.087432\n",
       "1      10000  100   480    747  647  0.133869   0.172414\n",
       "2      20000   65   180    519  454  0.125241   0.265306\n",
       "3      50000   33    38    202  169  0.163366   0.464789\n",
       "4     100000    7     3     68   61  0.102941   0.700000"
      ]
     },
     "execution_count": 27,
     "metadata": {},
     "output_type": "execute_result"
    }
   ],
   "source": [
    "all_tp_fp_fn_2d = all_tp_fp_fn.reshape(\n",
    "    (all_tp_fp_fn.shape[0]*all_tp_fp_fn.shape[1], all_tp_fp_fn.shape[2]))\n",
    "\n",
    "# all_tp_fp_fn_2d = del_tp_fp_fn.reshape(\n",
    "#     (del_tp_fp_fn.shape[0]*del_tp_fp_fn.shape[1], del_tp_fp_fn.shape[2]))\n",
    "\n",
    "# all_tp_fp_fn_2d = dup_tp_fp_fn.reshape(\n",
    "#     (dup_tp_fp_fn.shape[0]*dup_tp_fp_fn.shape[1], dup_tp_fp_fn.shape[2]))\n",
    "\n",
    "tmp_all_tp_fp_fn_df = pd.DataFrame(data=all_tp_fp_fn_2d, \n",
    "                                       columns=['RANGE_LOW','TP','FP', 'TP_FN'])\n",
    "# tmp_all_tp_fp_fn_df = tmp_all_tp_fp_fn_df[tmp_all_tp_fp_fn_df['RANGE_LOW']<=6000]\n",
    "tmp_all_tp_fp_fn_df['FN'] = tmp_all_tp_fp_fn_df['TP_FN'] - tmp_all_tp_fp_fn_df['TP']\n",
    "tmp_all_tp_fp_fn_df['RECALL'] = tmp_all_tp_fp_fn_df['TP']/(tmp_all_tp_fp_fn_df['TP_FN'])\n",
    "tmp_all_tp_fp_fn_df['PRECISION'] = tmp_all_tp_fp_fn_df['TP']/(tmp_all_tp_fp_fn_df['TP']+tmp_all_tp_fp_fn_df['FP'])\n",
    "\n",
    "tmp_all_tp_fp_fn_df.head()"
   ]
  },
  {
   "cell_type": "code",
   "execution_count": 28,
   "metadata": {
    "pycharm": {
     "is_executing": false
    }
   },
   "outputs": [
    {
     "data": {
      "text/html": [
       "<div>\n",
       "<style scoped>\n",
       "    .dataframe tbody tr th:only-of-type {\n",
       "        vertical-align: middle;\n",
       "    }\n",
       "\n",
       "    .dataframe tbody tr th {\n",
       "        vertical-align: top;\n",
       "    }\n",
       "\n",
       "    .dataframe thead th {\n",
       "        text-align: right;\n",
       "    }\n",
       "</style>\n",
       "<table border=\"1\" class=\"dataframe\">\n",
       "  <thead>\n",
       "    <tr style=\"text-align: right;\">\n",
       "      <th></th>\n",
       "      <th>TP_median</th>\n",
       "      <th>TP_std</th>\n",
       "      <th>FP_median</th>\n",
       "      <th>FP_std</th>\n",
       "      <th>FN_median</th>\n",
       "      <th>FN_std</th>\n",
       "    </tr>\n",
       "    <tr>\n",
       "      <th>RANGE_LOW</th>\n",
       "      <th></th>\n",
       "      <th></th>\n",
       "      <th></th>\n",
       "      <th></th>\n",
       "      <th></th>\n",
       "      <th></th>\n",
       "    </tr>\n",
       "  </thead>\n",
       "  <tbody>\n",
       "    <tr>\n",
       "      <th>2000</th>\n",
       "      <td>120</td>\n",
       "      <td>28.693728</td>\n",
       "      <td>1809</td>\n",
       "      <td>382.265962</td>\n",
       "      <td>597</td>\n",
       "      <td>182.445390</td>\n",
       "    </tr>\n",
       "    <tr>\n",
       "      <th>10000</th>\n",
       "      <td>70</td>\n",
       "      <td>19.545513</td>\n",
       "      <td>480</td>\n",
       "      <td>105.921630</td>\n",
       "      <td>465</td>\n",
       "      <td>168.662085</td>\n",
       "    </tr>\n",
       "    <tr>\n",
       "      <th>20000</th>\n",
       "      <td>41</td>\n",
       "      <td>13.297468</td>\n",
       "      <td>151</td>\n",
       "      <td>46.315129</td>\n",
       "      <td>288</td>\n",
       "      <td>135.872994</td>\n",
       "    </tr>\n",
       "    <tr>\n",
       "      <th>50000</th>\n",
       "      <td>16</td>\n",
       "      <td>8.565166</td>\n",
       "      <td>19</td>\n",
       "      <td>12.639663</td>\n",
       "      <td>83</td>\n",
       "      <td>68.139418</td>\n",
       "    </tr>\n",
       "    <tr>\n",
       "      <th>100000</th>\n",
       "      <td>6</td>\n",
       "      <td>4.304597</td>\n",
       "      <td>3</td>\n",
       "      <td>2.858743</td>\n",
       "      <td>20</td>\n",
       "      <td>28.833734</td>\n",
       "    </tr>\n",
       "  </tbody>\n",
       "</table>\n",
       "</div>"
      ],
      "text/plain": [
       "           TP_median     TP_std  FP_median      FP_std  FN_median      FN_std\n",
       "RANGE_LOW                                                                    \n",
       "2000             120  28.693728       1809  382.265962        597  182.445390\n",
       "10000             70  19.545513        480  105.921630        465  168.662085\n",
       "20000             41  13.297468        151   46.315129        288  135.872994\n",
       "50000             16   8.565166         19   12.639663         83   68.139418\n",
       "100000             6   4.304597          3    2.858743         20   28.833734"
      ]
     },
     "execution_count": 28,
     "metadata": {},
     "output_type": "execute_result"
    }
   ],
   "source": [
    "gp_all_df = tmp_all_tp_fp_fn_df.groupby('RANGE_LOW').agg({'TP': ['median', 'std'], \n",
    "                                                          'FP': ['median', 'std'],\n",
    "                                                          'FN': ['median', 'std']})\n",
    "new_cols = ['_'.join(t) for t in gp_all_df.columns]\n",
    "gp_all_df.columns = new_cols\n",
    "\n",
    "gp_all_df"
   ]
  },
  {
   "cell_type": "code",
   "execution_count": 29,
   "metadata": {
    "pycharm": {
     "is_executing": false
    }
   },
   "outputs": [
    {
     "data": {
      "text/html": [
       "<div>\n",
       "<style scoped>\n",
       "    .dataframe tbody tr th:only-of-type {\n",
       "        vertical-align: middle;\n",
       "    }\n",
       "\n",
       "    .dataframe tbody tr th {\n",
       "        vertical-align: top;\n",
       "    }\n",
       "\n",
       "    .dataframe thead th {\n",
       "        text-align: right;\n",
       "    }\n",
       "</style>\n",
       "<table border=\"1\" class=\"dataframe\">\n",
       "  <thead>\n",
       "    <tr style=\"text-align: right;\">\n",
       "      <th></th>\n",
       "      <th>FN</th>\n",
       "      <th>FP</th>\n",
       "      <th>TP</th>\n",
       "    </tr>\n",
       "    <tr>\n",
       "      <th>RANGE_LOW</th>\n",
       "      <th></th>\n",
       "      <th></th>\n",
       "      <th></th>\n",
       "    </tr>\n",
       "  </thead>\n",
       "  <tbody>\n",
       "    <tr>\n",
       "      <th>2000</th>\n",
       "      <td>597±182.4453896294569</td>\n",
       "      <td>1809±382.2659624003322</td>\n",
       "      <td>120±28.69372839595934</td>\n",
       "    </tr>\n",
       "    <tr>\n",
       "      <th>10000</th>\n",
       "      <td>465±168.6620852912068</td>\n",
       "      <td>480±105.9216296401059</td>\n",
       "      <td>70±19.545513387886725</td>\n",
       "    </tr>\n",
       "    <tr>\n",
       "      <th>20000</th>\n",
       "      <td>288±135.87299379696375</td>\n",
       "      <td>151±46.31512855433875</td>\n",
       "      <td>41±13.29746818377552</td>\n",
       "    </tr>\n",
       "    <tr>\n",
       "      <th>50000</th>\n",
       "      <td>83±68.13941807475685</td>\n",
       "      <td>19±12.639663118289285</td>\n",
       "      <td>16±8.56516602089634</td>\n",
       "    </tr>\n",
       "    <tr>\n",
       "      <th>100000</th>\n",
       "      <td>20±28.83373434803758</td>\n",
       "      <td>3±2.8587433940638056</td>\n",
       "      <td>6±4.304597153073246</td>\n",
       "    </tr>\n",
       "  </tbody>\n",
       "</table>\n",
       "</div>"
      ],
      "text/plain": [
       "                               FN                      FP  \\\n",
       "RANGE_LOW                                                   \n",
       "2000        597±182.4453896294569  1809±382.2659624003322   \n",
       "10000       465±168.6620852912068   480±105.9216296401059   \n",
       "20000      288±135.87299379696375   151±46.31512855433875   \n",
       "50000        83±68.13941807475685   19±12.639663118289285   \n",
       "100000       20±28.83373434803758    3±2.8587433940638056   \n",
       "\n",
       "                              TP  \n",
       "RANGE_LOW                         \n",
       "2000       120±28.69372839595934  \n",
       "10000      70±19.545513387886725  \n",
       "20000       41±13.29746818377552  \n",
       "50000        16±8.56516602089634  \n",
       "100000       6±4.304597153073246  "
      ]
     },
     "execution_count": 29,
     "metadata": {},
     "output_type": "execute_result"
    }
   ],
   "source": [
    "(gp_all_df.groupby(gp_all_df.columns.str[0:2], axis=1)\n",
    "              .apply(lambda x: x.astype(str).apply('±'.join, 1)))"
   ]
  },
  {
   "cell_type": "code",
   "execution_count": 30,
   "metadata": {
    "pycharm": {
     "is_executing": false
    }
   },
   "outputs": [],
   "source": [
    "# all_tp_fp_fn_df = pd.melt(tmp_all_tp_fp_fn_df, \n",
    "#                           id_vars=['RANGE_LOW'], value_vars=['TP','FP', 'FN'],\n",
    "#                          var_name='PRED_TYPE', value_name='COUNT')\n",
    "\n",
    "all_tp_fp_fn_df = pd.melt(tmp_all_tp_fp_fn_df, \n",
    "                          id_vars=['RANGE_LOW'], value_vars=['RECALL','PRECISION'],\n",
    "                         var_name='PRED_MET', value_name='RATIO')"
   ]
  },
  {
   "cell_type": "code",
   "execution_count": 31,
   "metadata": {},
   "outputs": [],
   "source": [
    "all_precision=all_tp_fp_fn_df[all_tp_fp_fn_df['PRED_MET']=='PRECISION']"
   ]
  },
  {
   "cell_type": "code",
   "execution_count": 32,
   "metadata": {
    "pycharm": {
     "is_executing": false
    },
    "scrolled": true
   },
   "outputs": [
    {
     "data": {
      "text/plain": [
       "Text(0.5,0,'Predicted CNV size(bp)')"
      ]
     },
     "execution_count": 32,
     "metadata": {},
     "output_type": "execute_result"
    },
    {
     "data": {
      "image/png": "[encoded data removed]",
      "text/plain": [
       "<Figure size 1080x576 with 1 Axes>"
      ]
     },
     "metadata": {},
     "output_type": "display_data"
    }
   ],
   "source": [
    "# reg_size = [0,1000,2000,3000, 4000, 5000,6000]\n",
    "reg_size = [2000,10000, 20000, 50000, 100000]\n",
    "sns.set(style=\"whitegrid\")\n",
    "params = {'legend.fontsize': 'x-large',\n",
    "          'figure.figsize': (15, 8),\n",
    "         'axes.labelsize': 'x-large',\n",
    "         'axes.titlesize':'x-large',\n",
    "         'xtick.labelsize':'x-large',\n",
    "         'ytick.labelsize':'x-large'}\n",
    "plt.rcParams.update(params)\n",
    "bp = sns.boxplot(y='RATIO', x='RANGE_LOW', \n",
    "                     data=all_precision, \n",
    "                     palette=\"colorblind\", \n",
    "                     hue='PRED_MET')\n",
    "    \n",
    "    # make grouped stripplot and save it in a variable\n",
    "bp = sns.stripplot(y='RATIO', x='RANGE_LOW', \n",
    "                       data=all_precision, \n",
    "                       jitter=True,\n",
    "                       dodge=True, \n",
    "                       marker='o', \n",
    "                       alpha=0.5,\n",
    "                       hue='PRED_MET',\n",
    "                       color='grey')\n",
    "    # get legend information from the plot object\n",
    "handles, labels = bp.get_legend_handles_labels()\n",
    "    # specify just one legend\n",
    "    # l = plt.legend(handles[0:1], labels[0:1])\n",
    "l = plt.legend(handles[0:1], labels[0:1])\n",
    "\n",
    "x_tlabel_lst = []\n",
    "for reg_s in reg_size:\n",
    "    str_l = r\"$\\geqslant\"+str(reg_s)+\"$\"\n",
    "    x_tlabel_lst.append(str_l)\n",
    "    \n",
    "bp.set_xticklabels(x_tlabel_lst)\n",
    "plt.xlabel('Predicted CNV size(bp)')"
   ]
  },
  {
   "cell_type": "code",
   "execution_count": 100,
   "metadata": {
    "scrolled": true
   },
   "outputs": [
    {
     "data": {
      "text/plain": [
       "Text(0.5,0,'Predicted CNVs size(bp)')"
      ]
     },
     "execution_count": 100,
     "metadata": {},
     "output_type": "execute_result"
    },
    {
     "data": {
      "image/png": "[encoded data removed]",
      "text/plain": [
       "<Figure size 1080x576 with 3 Axes>"
      ]
     },
     "metadata": {},
     "output_type": "display_data"
    }
   ],
   "source": [
    "reg_size = [2000,10000, 20000, 50000, 100000]\n",
    "# reg_size = [0,1000,2000,3000, 4000, 5000]\n",
    "params = {'legend.fontsize': 'x-large',\n",
    "          'figure.figsize': (15, 8),\n",
    "         'axes.labelsize': 'x-large',\n",
    "         'axes.titlesize':'x-large',\n",
    "         'xtick.labelsize':'x-large',\n",
    "         'ytick.labelsize':'x-large'}\n",
    "plt.rcParams.update(params)\n",
    "\n",
    "pred_re_types = ['TP', 'FP', 'FN']\n",
    "f, axs = plt.subplots(len(pred_re_types),1, sharex=True, )\n",
    "\n",
    "for i, i_type in enumerate(pred_re_types):\n",
    "    bp = sns.boxplot(y='COUNT', x='RANGE_LOW', \n",
    "                     data=all_tp_fp_fn_df[all_tp_fp_fn_df['PRED_TYPE']==i_type], \n",
    "                     palette=\"colorblind\", \n",
    "                     hue='PRED_TYPE',\n",
    "                     ax=axs[i])\n",
    "    \n",
    "    # make grouped stripplot and save it in a variable\n",
    "    bp = sns.stripplot(y='COUNT', x='RANGE_LOW', \n",
    "                       data=all_tp_fp_fn_df[all_tp_fp_fn_df['PRED_TYPE']==i_type], \n",
    "                       jitter=True,\n",
    "                       dodge=True, \n",
    "                       marker='o', \n",
    "                       alpha=0.5,\n",
    "                       hue='PRED_TYPE',\n",
    "                       color='grey',\n",
    "                       ax=axs[i])\n",
    "    # get legend information from the plot object\n",
    "    handles, labels = bp.get_legend_handles_labels()\n",
    "    # specify just one legend\n",
    "    # l = plt.legend(handles[0:1], labels[0:1])\n",
    "    l = axs[i].legend(handles[0:1], labels[0:1])\n",
    "    axs[i].set_ylabel('Count')\n",
    "    axs[i].set_xlabel('')\n",
    "\n",
    "x_tlabel_lst = []\n",
    "for reg_s in reg_size:\n",
    "    str_l = r\"$\\geqslant\"+str(reg_s)+\"$\"\n",
    "    x_tlabel_lst.append(str_l)\n",
    "    \n",
    "bp.set_xticklabels(x_tlabel_lst)\n",
    "plt.xlabel('Predicted CNVs size(bp)')\n"
   ]
  },
  {
   "cell_type": "code",
   "execution_count": 33,
   "metadata": {},
   "outputs": [
    {
     "data": {
      "text/plain": [
       "array([[    0,  1035, 37637,  1931],\n",
       "       [ 1000,   478,  7367,  1079],\n",
       "       [ 2000,   143,   880,   424],\n",
       "       [ 3000,    52,   211,   200],\n",
       "       [ 4000,    26,    70,   112],\n",
       "       [ 5000,    16,    25,    56],\n",
       "       [ 6000,     6,     8,    30],\n",
       "       [ 7000,     3,     4,    15],\n",
       "       [ 8000,     3,     2,    11],\n",
       "       [ 9000,     2,     1,     8],\n",
       "       [10000,     2,     0,     5],\n",
       "       [    0,   639, 40344,  1278],\n",
       "       [ 1000,   259,  6965,   655],\n",
       "       [ 2000,    53,   615,   181],\n",
       "       [ 3000,    15,   109,    70],\n",
       "       [ 4000,     5,    20,    35],\n",
       "       [ 5000,     1,     5,    12],\n",
       "       [ 6000,     1,     1,     9],\n",
       "       [ 7000,     1,     0,     6],\n",
       "       [ 8000,     1,     0,     5],\n",
       "       [ 9000,     0,     0,     3],\n",
       "       [10000,     0,     0,     3],\n",
       "       [    0,   780, 38307,  1747],\n",
       "       [ 1000,   376,  7581,  1031],\n",
       "       [ 2000,   115,   916,   398],\n",
       "       [ 3000,    52,   216,   193],\n",
       "       [ 4000,    22,    77,    97],\n",
       "       [ 5000,    12,    32,    52],\n",
       "       [ 6000,     8,    13,    29],\n",
       "       [ 7000,     6,     4,    14],\n",
       "       [ 8000,     4,     1,    11],\n",
       "       [ 9000,     4,     0,     8],\n",
       "       [10000,     2,     0,     6],\n",
       "       [    0,   930, 42380,  1636],\n",
       "       [ 1000,   410,  7605,   837],\n",
       "       [ 2000,   107,   756,   269],\n",
       "       [ 3000,    44,   166,   113],\n",
       "       [ 4000,    24,    41,    52],\n",
       "       [ 5000,     6,    17,    18],\n",
       "       [ 6000,     1,     6,     5],\n",
       "       [ 7000,     0,     2,     2],\n",
       "       [ 8000,     0,     1,     1],\n",
       "       [ 9000,     0,     1,     1],\n",
       "       [10000,     0,     1,     1],\n",
       "       [    0,   666, 37116,  1464],\n",
       "       [ 1000,   328,  7607,   876],\n",
       "       [ 2000,   112,  1060,   367],\n",
       "       [ 3000,    59,   280,   186],\n",
       "       [ 4000,    30,    92,   109],\n",
       "       [ 5000,    16,    29,    63],\n",
       "       [ 6000,     9,    13,    41],\n",
       "       [ 7000,     5,     9,    24],\n",
       "       [ 8000,     2,     5,    15],\n",
       "       [ 9000,     2,     1,    11],\n",
       "       [10000,     2,     0,     8],\n",
       "       [    0,   869, 38252,  1671],\n",
       "       [ 1000,   351,  7565,   900],\n",
       "       [ 2000,   110,   900,   376],\n",
       "       [ 3000,    57,   210,   197],\n",
       "       [ 4000,    28,    60,   104],\n",
       "       [ 5000,    18,    13,    52],\n",
       "       [ 6000,     7,     6,    27],\n",
       "       [ 7000,     6,     2,    19],\n",
       "       [ 8000,     5,     1,    15],\n",
       "       [ 9000,     5,     1,     9],\n",
       "       [10000,     3,     1,     7],\n",
       "       [    0,   817, 38374,  1656],\n",
       "       [ 1000,   380,  7754,   974],\n",
       "       [ 2000,   107,   968,   383],\n",
       "       [ 3000,    54,   237,   201],\n",
       "       [ 4000,    23,    67,   104],\n",
       "       [ 5000,    18,    21,    73],\n",
       "       [ 6000,    11,     9,    43],\n",
       "       [ 7000,     5,     4,    25],\n",
       "       [ 8000,     2,     2,    13],\n",
       "       [ 9000,     2,     1,    10],\n",
       "       [10000,     2,     1,    10],\n",
       "       [    0,   682, 36513,  1452],\n",
       "       [ 1000,   316,  7234,   846],\n",
       "       [ 2000,    90,   888,   312],\n",
       "       [ 3000,    34,   200,   158],\n",
       "       [ 4000,    11,    64,    72],\n",
       "       [ 5000,     3,    18,    41],\n",
       "       [ 6000,     2,     5,    25],\n",
       "       [ 7000,     2,     3,    11],\n",
       "       [ 8000,     0,     1,     5],\n",
       "       [ 9000,     0,     0,     4],\n",
       "       [10000,     0,     0,     4],\n",
       "       [    0,   820, 39219,  1786],\n",
       "       [ 1000,   353,  7760,  1016],\n",
       "       [ 2000,   109,   941,   409],\n",
       "       [ 3000,    42,   205,   205],\n",
       "       [ 4000,    17,    62,    97],\n",
       "       [ 5000,     8,    18,    45],\n",
       "       [ 6000,     7,     5,    28],\n",
       "       [ 7000,     5,     1,    16],\n",
       "       [ 8000,     3,     1,    11],\n",
       "       [ 9000,     2,     1,     7],\n",
       "       [10000,     2,     0,     5],\n",
       "       [    0,   825, 38887,  1569],\n",
       "       [ 1000,   355,  7312,   838],\n",
       "       [ 2000,    94,   874,   298],\n",
       "       [ 3000,    37,   221,   149],\n",
       "       [ 4000,    19,    70,    77],\n",
       "       [ 5000,     8,    18,    38],\n",
       "       [ 6000,     6,     6,    26],\n",
       "       [ 7000,     3,     1,    15],\n",
       "       [ 8000,     2,     0,    11],\n",
       "       [ 9000,     1,     0,     5],\n",
       "       [10000,     1,     0,     4]])"
      ]
     },
     "execution_count": 33,
     "metadata": {},
     "output_type": "execute_result"
    }
   ],
   "source": [
    "all_tp_fp_fn_2d"
   ]
  },
  {
   "cell_type": "code",
   "execution_count": 10,
   "metadata": {},
   "outputs": [],
   "source": [
    "# load the test results using the model trained by 1:1:1 training dataset\n",
    "test_res_dir = os.path.join(test_result_root_dir, 'model111/test_out')\n",
    "test_res_fname = os.path.join(test_res_dir, test_res_fn+'-offline-test.h5')"
   ]
  },
  {
   "cell_type": "code",
   "execution_count": 11,
   "metadata": {},
   "outputs": [],
   "source": [
    "with h5py.File(test_res_fname, 'r') as test_out:\n",
    "    ypred = test_out.get('ypred').value\n",
    "    ytrue = test_out.get('ytrue').value"
   ]
  },
  {
   "cell_type": "code",
   "execution_count": 12,
   "metadata": {},
   "outputs": [
    {
     "data": {
      "text/plain": [
       "1"
      ]
     },
     "execution_count": 12,
     "metadata": {},
     "output_type": "execute_result"
    }
   ],
   "source": [
    "ytrue[848663]"
   ]
  },
  {
   "cell_type": "code",
   "execution_count": 13,
   "metadata": {},
   "outputs": [
    {
     "data": {
      "text/plain": [
       "array([1.8141792e-10, 1.0000000e+00, 1.8170587e-12], dtype=float32)"
      ]
     },
     "execution_count": 13,
     "metadata": {},
     "output_type": "execute_result"
    }
   ],
   "source": [
    "ypred[848663]"
   ]
  },
  {
   "cell_type": "code",
   "execution_count": 14,
   "metadata": {},
   "outputs": [],
   "source": [
    "in_put = np.load('/zfssz2/ST_MCHRI/BIGDATA/PROJECT/NIPT_CNV/f_cnv_out/data/w1000_r0.10_f0.01/dataset/NA12878_DEL_2.npz')\n",
    "\n",
    "x = in_put['x']\n",
    "\n",
    "# 1|7510013|7511460|1447|DEL|0.161741|1"
   ]
  },
  {
   "cell_type": "code",
   "execution_count": 24,
   "metadata": {},
   "outputs": [
    {
     "data": {
      "text/plain": [
       "array([[0.        , 0.        , 0.        , ..., 0.        , 1.        ,\n",
       "        0.        ],\n",
       "       [0.25      , 0.84210526, 1.        , ..., 1.        , 0.        ,\n",
       "        0.        ],\n",
       "       [0.25      , 0.89473684, 1.        , ..., 1.        , 0.        ,\n",
       "        0.        ],\n",
       "       ...,\n",
       "       [0.75      , 0.92105263, 1.        , ..., 0.        , 1.        ,\n",
       "        0.        ],\n",
       "       [0.75      , 0.85087711, 1.        , ..., 1.        , 0.        ,\n",
       "        0.        ],\n",
       "       [1.        , 0.84210526, 1.        , ..., 0.        , 1.        ,\n",
       "        0.        ]])"
      ]
     },
     "execution_count": 24,
     "metadata": {},
     "output_type": "execute_result"
    }
   ],
   "source": [
    "x"
   ]
  },
  {
   "cell_type": "code",
   "execution_count": 38,
   "metadata": {},
   "outputs": [],
   "source": [
    "# f_online_feat = '/zfssz2/ST_MCHRI/BIGDATA/PROJECT/NIPT_CNV/f_cnv_out/online/NA12878/data/NA12878_chr1_features_whole.h5'\n",
    "f_online_feat='/zfssz6/ST_MCHRI/BIGDATA/P18Z10200N0124/NIPT_CNV/NIPT_CNV/online_calling_features/252_0.1X_NIPT_like_1000genome_testsample_online_calling_features/NA12878/data/NA12878_chr1_features_whole.h5'\n",
    "\n",
    "with h5py.File(f_online_feat, 'r') as f_online:\n",
    "    feat = f_online.get('feature').value\n",
    "    pos = f_online.get('base_cov_pos_idx').value"
   ]
  },
  {
   "cell_type": "code",
   "execution_count": 21,
   "metadata": {},
   "outputs": [
    {
     "data": {
      "text/plain": [
       "(248956422, 13)"
      ]
     },
     "execution_count": 21,
     "metadata": {},
     "output_type": "execute_result"
    }
   ],
   "source": [
    "feat.shape"
   ]
  },
  {
   "cell_type": "code",
   "execution_count": 48,
   "metadata": {},
   "outputs": [
    {
     "data": {
      "text/plain": [
       "array([0, 1, 1, 1, 1, 1, 1, 1, 1, 1, 1, 1, 1, 1, 1, 1, 1, 1, 1, 1, 1, 1,\n",
       "       1, 1, 1, 1, 1, 1, 1, 1, 1, 1, 1, 1, 1, 1, 0, 0, 0, 0, 0, 0, 0, 0,\n",
       "       0, 0, 0, 0, 0, 0, 0, 0, 0, 0, 0, 0, 0, 0, 0, 0, 0, 0, 0, 0, 0, 0,\n",
       "       0, 0, 0, 0, 0, 0, 0, 0, 0, 0, 0, 0, 0, 0, 0, 0, 0, 0, 0, 0, 0, 0,\n",
       "       0, 0, 0, 0, 0, 0, 0, 0, 0, 0, 0, 0, 0, 0, 0, 0, 0, 0, 0, 0, 0, 0,\n",
       "       0, 0, 0, 0, 0, 0, 0, 0, 0, 0, 0, 0, 0, 0, 0, 0, 0, 0, 0, 0, 0, 0,\n",
       "       0, 0, 0, 0, 0, 0, 0, 1, 1, 1, 1, 1, 1, 1, 1, 1, 1, 1, 1, 1, 1, 1,\n",
       "       1, 1, 1, 1, 1, 1, 1, 1, 1, 1, 1, 1, 1, 1, 1, 1, 1, 1, 1, 1, 0, 0,\n",
       "       0, 0, 0, 0, 0, 0, 0, 0, 0, 0, 0, 0, 0, 0, 0, 0, 0, 0, 0, 0, 0, 0,\n",
       "       0, 0, 1, 1, 1, 1, 1, 1, 1, 1, 1, 1, 1, 1, 1, 1, 1, 1, 1, 1, 1, 1,\n",
       "       1, 1, 1, 1, 1, 1, 1, 1, 1, 1, 1, 1, 1, 1, 1, 0, 0, 0, 0, 0, 0, 0,\n",
       "       0, 0, 0, 0, 0, 0, 0, 0, 0, 0, 0, 0, 0, 0, 0, 0, 0, 0, 0, 0, 0, 0,\n",
       "       0, 0, 0, 0, 0, 0, 0, 0, 0, 0, 0, 0, 0, 0, 0, 0, 0, 0, 1, 1, 1, 1,\n",
       "       1, 1, 1, 1, 1, 1, 1, 1, 1, 1, 1, 1, 1, 1, 1, 1, 1, 1, 1, 1, 1, 1,\n",
       "       1, 1, 1, 1, 1, 1, 1, 1, 1, 0, 0, 0, 0, 0, 0, 0, 0, 1, 1, 1, 1, 1,\n",
       "       1, 1, 1, 1, 1, 1, 1, 1, 1, 1, 1, 1, 1, 1, 1, 1, 1, 1, 1, 1, 1, 1,\n",
       "       1, 1, 1, 1, 1, 1, 1, 1, 1, 1, 1, 1, 1, 1, 1, 1, 1, 1, 1, 1, 1, 1,\n",
       "       1, 1, 1, 1, 1, 1, 1, 1, 1, 1, 1, 1, 1, 1, 1, 1, 1, 1, 1, 1, 1, 1,\n",
       "       1, 1, 1, 1, 1, 1, 1, 1, 1, 1, 1, 1, 0, 0, 0, 0, 0, 0, 0, 0, 0, 0,\n",
       "       0, 0, 0, 0, 0, 0, 0, 0, 0, 0, 0, 0, 0, 0, 0, 0, 0, 0, 0, 0, 0, 0,\n",
       "       0, 0, 0, 0, 0, 0, 0, 0, 0, 0, 0, 0, 0, 0, 0, 0, 0, 0, 0, 0, 0, 0,\n",
       "       0, 0, 0, 0, 0, 0, 0, 0, 0, 0, 0, 0, 0, 0, 0, 0, 0, 0, 0, 0, 0, 0,\n",
       "       0, 0, 0, 0, 0, 0, 0, 0, 0, 0, 0, 0, 0, 0, 0, 0, 0, 0, 0, 0, 0, 0,\n",
       "       0, 0, 0, 0, 0, 0, 0, 0, 0, 0, 0, 0, 0, 0, 0, 0, 0, 0, 0, 0, 0, 0,\n",
       "       0, 0, 0, 0, 0, 0, 0, 0, 0, 0, 0, 0, 0, 0, 0, 0, 0, 0, 0, 0, 0, 0,\n",
       "       0, 0, 0, 0, 0, 0, 0, 1, 1, 1, 1, 1, 1, 1, 1, 1, 1, 1, 1, 1, 1, 1,\n",
       "       1, 1, 1, 1, 1, 1, 1, 1, 1, 1, 1, 1, 1, 1, 1, 1, 1, 1, 1, 1, 0, 0,\n",
       "       0, 0, 0, 0, 0, 0, 0, 0, 0, 0, 0, 0, 0, 0, 0, 0, 0, 0, 0, 0, 0, 0,\n",
       "       0, 0, 0, 0, 0, 0, 0, 0, 0, 0, 0, 0, 0, 0, 0, 0, 0, 0, 0, 0, 0, 0,\n",
       "       0, 0, 0, 0, 0, 0, 0, 0, 0, 0, 0, 0, 0, 0, 0, 0, 0, 0, 0, 0, 0, 0,\n",
       "       0, 0, 0, 0, 0, 0, 0, 0, 0, 0, 0, 0, 0, 0, 0, 0, 0, 0, 0, 0, 0, 0,\n",
       "       0, 0, 0, 0, 0, 0, 0, 0, 0, 0, 0, 0, 0, 0, 0, 0, 0, 0, 0, 0, 0, 0,\n",
       "       0, 0, 0, 0, 0, 0, 0, 0, 0, 0, 0, 0, 0, 0, 0, 0, 0, 0, 0, 0, 0, 0,\n",
       "       0, 0, 0, 0, 0, 0, 0, 0, 0, 0, 0, 1, 1, 1, 1, 1, 1, 1, 1, 1, 1, 1,\n",
       "       1, 1, 1, 1, 1, 1, 1, 1, 1, 1, 1, 1, 1, 1, 1, 1, 1, 1, 1, 1, 1, 1,\n",
       "       1, 1, 1, 1, 1, 1, 1, 1, 1, 1, 1, 1, 0, 0, 0, 0, 0, 0, 0, 0, 0, 0,\n",
       "       0, 0, 0, 0, 0, 0, 0, 0, 0, 0, 0, 0, 0, 0, 0, 0, 0, 0, 0, 0, 0, 0,\n",
       "       0, 0, 0, 0, 0, 0, 0, 0, 0, 0, 0, 0, 0, 0, 0, 0, 0, 0, 0, 0, 0, 0,\n",
       "       0, 0, 0, 0, 0, 0, 0, 0, 0, 1, 1, 1, 1, 1, 1, 1, 1, 1, 1, 1, 1, 1,\n",
       "       1, 1, 1, 1, 1, 1, 1, 1, 1, 1, 1, 1, 1, 1, 1, 1, 1, 1, 1, 1, 1, 1,\n",
       "       0, 0, 1, 1, 1, 1, 1, 1, 1, 1, 1, 1, 1, 1, 1, 1, 1, 1, 1, 1, 1, 1,\n",
       "       1, 1, 1, 1, 1, 1, 1, 1, 1, 1, 1, 1, 1, 1, 1, 1, 1, 1, 1, 1, 1, 1,\n",
       "       1, 1, 1, 1, 1, 1, 1, 0, 0, 0, 0, 0, 0, 0, 0, 0, 0, 0, 0, 0, 0, 0,\n",
       "       0, 0, 0, 0, 0, 0, 0, 0, 0, 0, 0, 0, 0, 0, 0, 0, 0, 0, 0, 0, 0, 1,\n",
       "       1, 1, 1, 1, 1, 1, 1, 1, 1, 1, 1, 1, 1, 1, 1, 1, 1, 1, 1, 1, 1, 1,\n",
       "       1, 1, 1, 1, 1, 1, 1, 1, 1, 1])"
      ]
     },
     "execution_count": 48,
     "metadata": {},
     "output_type": "execute_result"
    }
   ],
   "source": [
    "pos[7511460-1000:7511460]"
   ]
  },
  {
   "cell_type": "code",
   "execution_count": 56,
   "metadata": {},
   "outputs": [
    {
     "data": {
      "text/plain": [
       "array([[ 0.      ,  0.      ,  0.      , ...,  1.      ,  0.      ,\n",
       "         0.      ],\n",
       "       [ 0.      ,  0.      ,  0.      , ...,  0.      ,  1.      ,\n",
       "         0.      ],\n",
       "       [ 0.      ,  0.      ,  0.      , ...,  0.      ,  1.      ,\n",
       "         0.      ],\n",
       "       ...,\n",
       "       [ 3.      , 36.666668, 37.      , ...,  0.      ,  0.      ,\n",
       "         0.      ],\n",
       "       [ 3.      , 37.      , 37.      , ...,  0.      ,  1.      ,\n",
       "         0.      ],\n",
       "       [ 3.      , 36.      , 37.      , ...,  0.      ,  0.      ,\n",
       "         0.      ]], dtype=float32)"
      ]
     },
     "execution_count": 56,
     "metadata": {},
     "output_type": "execute_result"
    }
   ],
   "source": [
    "feat[7510455:7511455]\n",
    "#7510013"
   ]
  },
  {
   "cell_type": "code",
   "execution_count": 25,
   "metadata": {},
   "outputs": [],
   "source": [
    "t_online = '/zfssz2/ST_MCHRI/BIGDATA/PROJECT/NIPT_CNV/f_cnv_out/online/NA12878/data/win1000_step35_r0.10_chr1_seg_a_pred_idx1_tn6584671_sn131072_s4881325_e9484265.h5'\n",
    "with h5py.File(t_online, 'r') as t_online:\n",
    "    feat_meta = t_online.get('pred_meta').value\n",
    "    feat_f = t_online.get('pred_feat').value"
   ]
  },
  {
   "cell_type": "code",
   "execution_count": 34,
   "metadata": {},
   "outputs": [
    {
     "data": {
      "text/plain": [
       "(131072, 4)"
      ]
     },
     "execution_count": 34,
     "metadata": {},
     "output_type": "execute_result"
    }
   ],
   "source": [
    "feat_meta.shape"
   ]
  },
  {
   "cell_type": "code",
   "execution_count": 55,
   "metadata": {},
   "outputs": [
    {
     "data": {
      "text/plain": [
       "array([[7510455, 7511455,    1000,       3],\n",
       "       [7510490, 7511490,    1000,       3],\n",
       "       [7510525, 7511525,    1000,       3],\n",
       "       ...,\n",
       "       [9483195, 9484195,    1000,       3],\n",
       "       [9483230, 9484230,    1000,       3],\n",
       "       [9483265, 9484265,    1000,       3]], dtype=int32)"
      ]
     },
     "execution_count": 55,
     "metadata": {},
     "output_type": "execute_result"
    }
   ],
   "source": [
    "feat_meta[(feat_meta[:,0]>7511460-1000-35)]"
   ]
  },
  {
   "cell_type": "code",
   "execution_count": 57,
   "metadata": {},
   "outputs": [
    {
     "data": {
      "text/plain": [
       "(array([ 74858,  74859,  74860, ..., 131069, 131070, 131071]),)"
      ]
     },
     "execution_count": 57,
     "metadata": {},
     "output_type": "execute_result"
    }
   ],
   "source": [
    "np.where((feat_meta[:,0]>7511460-1000-35))"
   ]
  },
  {
   "cell_type": "code",
   "execution_count": 60,
   "metadata": {},
   "outputs": [
    {
     "data": {
      "text/plain": [
       "array([[0.        , 0.        , 0.        , ..., 1.        , 0.        ,\n",
       "        0.        ],\n",
       "       [0.        , 0.        , 0.        , ..., 0.        , 1.        ,\n",
       "        0.        ],\n",
       "       [0.        , 0.        , 0.        , ..., 0.        , 1.        ,\n",
       "        0.        ],\n",
       "       ...,\n",
       "       [1.        , 0.9649123 , 1.        , ..., 0.        , 0.        ,\n",
       "        0.        ],\n",
       "       [1.        , 0.9736842 , 1.        , ..., 0.        , 1.        ,\n",
       "        0.        ],\n",
       "       [1.        , 0.94736844, 1.        , ..., 0.        , 0.        ,\n",
       "        0.        ]], dtype=float32)"
      ]
     },
     "execution_count": 60,
     "metadata": {},
     "output_type": "execute_result"
    }
   ],
   "source": [
    "feat_f[74858,:,:]"
   ]
  },
  {
   "cell_type": "code",
   "execution_count": 86,
   "metadata": {},
   "outputs": [
    {
     "data": {
      "text/plain": [
       "Text(0.5,1,'HG01136,chr1')"
      ]
     },
     "execution_count": 86,
     "metadata": {},
     "output_type": "execute_result"
    },
    {
     "data": {
      "image/png": "[encoded data removed]",
      "text/plain": [
       "<matplotlib.figure.Figure at 0x7fda735a8400>"
      ]
     },
     "metadata": {},
     "output_type": "display_data"
    }
   ],
   "source": [
    "plt.figure(figsize=(20,6))\n",
    "plt.scatter(start_pos,i_copy,s=2,c='k')\n",
    "plt.xticks(fontsize=14)\n",
    "plt.yticks(fontsize=14)\n",
    "plt.xlabel('Position',fontsize=14)\n",
    "plt.ylabel('log 2 ratio',fontsize=14)\n",
    "plt.title('HG01136,chr1',fontsize=14)\n"
   ]
  },
  {
   "cell_type": "code",
   "execution_count": null,
   "metadata": {},
   "outputs": [],
   "source": []
  }
 ],
 "metadata": {
  "kernelspec": {
   "display_name": "Python 3",
   "language": "python",
   "name": "python3"
  },
  "language_info": {
   "codemirror_mode": {
    "name": "ipython",
    "version": 3
   },
   "file_extension": ".py",
   "mimetype": "text/x-python",
   "name": "python",
   "nbconvert_exporter": "python",
   "pygments_lexer": "ipython3",
   "version": "3.6.5"
  },
  "pycharm": {
   "stem_cell": {
    "cell_type": "raw",
    "metadata": {
     "collapsed": false
    },
    "source": []
   }
  }
 },
 "nbformat": 4,
 "nbformat_minor": 2
}
