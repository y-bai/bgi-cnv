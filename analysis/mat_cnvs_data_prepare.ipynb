{
 "cells": [
  {
   "cell_type": "code",
   "execution_count": 1,
   "metadata": {},
   "outputs": [],
   "source": [
    "import os\n",
    "import pysam\n",
    "import numpy as np\n",
    "import pandas as pd\n",
    "import pickle\n",
    "\n",
    "from collections import OrderedDict"
   ]
  },
  {
   "cell_type": "code",
   "execution_count": 2,
   "metadata": {},
   "outputs": [],
   "source": [
    "import seaborn as sns\n",
    "import matplotlib.pyplot as plt\n",
    "%matplotlib inline"
   ]
  },
  {
   "cell_type": "code",
   "execution_count": 3,
   "metadata": {},
   "outputs": [],
   "source": [
    "proj_data_dir = '/zfssz6/ST_MCHRI/BIGDATA/P18Z10200N0124/NIPT_CNV'\n",
    "\n",
    "onek_ds_bam_dir =os.path.join(proj_data_dir,'final_file')\n",
    "ref_fa_f = '/zfssz6/ST_MCHRI/BIGDATA/database/BGI-seq500_OSS_download/human_reference/hg38/Homo_sapiens_assembly38.fasta'\n",
    "ref_map_f = '/zfssz6/ST_MCHRI/BIGDATA/P18Z10200N0124/NIPT_CNV/NIPT_CNV/NIPT_35bp_hg38_map_gc/Homo_sapiens_assembly38.fasta.kmer35.bw'\n",
    "\n",
    "# NA12878 CNVs data\n",
    "sampleId = 'NA12878'\n",
    "fcnv_fname = os.path.join(proj_data_dir,'NIPT_CNV/'+sampleId+'.ge1k.af0_05.cnvs.dat.pkl')\n"
   ]
  },
  {
   "cell_type": "code",
   "execution_count": 4,
   "metadata": {},
   "outputs": [],
   "source": [
    "# load NA12878 cnvs\n",
    "with open(fcnv_fname, 'rb') as f:\n",
    "    cnvs_dict = pickle.load(f)\n",
    "\n",
    "# load bam file and fasta file\n",
    "sample_id_arr = np.loadtxt(os.path.join(proj_data_dir,'sample.list'), \n",
    "                        delimiter='\\t',usecols=(0,1),dtype='str')\n",
    "\n",
    "sample_id_dict=dict(zip(sample_id_arr[:,0],sample_id_arr[:,1]))\n",
    "\n",
    "bamfile =  pysam.AlignmentFile(os.path.join(onek_ds_bam_dir,\n",
    "                                           sampleId+'/'+sample_id_dict[sampleId]+\\\n",
    "                                            '.sorted.rmdup.realign.BQSR.bam'), \n",
    "                               mode='rb')#,reference_filename=ref_fa_f)\n",
    "reffile =  pysam.FastaFile(ref_fa_f) \n"
   ]
  },
  {
   "cell_type": "code",
   "execution_count": 11,
   "metadata": {},
   "outputs": [
    {
     "data": {
      "text/plain": [
       "'/zfssz6/ST_MCHRI/BIGDATA/P18Z10200N0124/NIPT_CNV/final_file/NA12878/SRR098401_1.sorted.rmdup.realign.BQSR.bam'"
      ]
     },
     "execution_count": 11,
     "metadata": {},
     "output_type": "execute_result"
    }
   ],
   "source": [
    "os.path.join(onek_ds_bam_dir, sampleId+'/'+sample_id_dict[sampleId]+'.sorted.rmdup.realign.BQSR.bam')"
   ]
  },
  {
   "cell_type": "code",
   "execution_count": 5,
   "metadata": {},
   "outputs": [],
   "source": [
    "# chr_name\n",
    "chr_id = '22'"
   ]
  },
  {
   "cell_type": "code",
   "execution_count": 6,
   "metadata": {},
   "outputs": [],
   "source": [
    "# creat features\n",
    "# runing slow\n",
    "from collections import Counter\n",
    "import pyBigWig\n",
    "\n",
    "feat_dict={}\n",
    "feat_dict[chr_id]={}\n",
    "\n",
    "filed_name1 = 'mapped_pos_seq_base_cov' #\n",
    "filed_name2 = 'mapped_pos_seq_mean_base_seq_qual'\n",
    "filed_name3 = 'mapped_pos_seq_mean_base_map_qual'\n",
    "filed_name4 = 'mapped_pos_seq_base_gc_cnts'\n",
    "\n",
    "filed_name5 = 'mapped_pos_seq_a_cnt'\n",
    "filed_name6 = 'mapped_pos_seq_t_cnt'\n",
    "filed_name7 = 'mapped_pos_seq_c_cnt'\n",
    "filed_name8 = 'mapped_pos_seq_g_cnt'\n",
    "\n",
    "filed_name9 = 'ref_bases'\n",
    "filed_name10 = 'ref_mappability'\n",
    "\n",
    "# creat dict for saving features\n",
    "d1=OrderedDict()\n",
    "d2=OrderedDict()\n",
    "d3=OrderedDict()\n",
    "d4=OrderedDict()\n",
    "\n",
    "d5=OrderedDict()\n",
    "d6=OrderedDict()\n",
    "d7=OrderedDict()\n",
    "d8=OrderedDict()\n",
    "\n",
    "its=bamfile.pileup('chr'+ chr_id,stepper='nofilter',min_base_quality=0) \n",
    "# Coordinates in pysam are always 0-based (following the python convention). SAM text files use 1-based coordinates.\n",
    "for pileupcolumn in its: \n",
    "    # each iteration return a PileupColumn Object which represents all the reads in the bam files that\n",
    "    # map to a single base in the reference sequence. The list of reads are represented as PileupRead objects \n",
    "    # in the PileupColumn.pileups property.\n",
    "    d1[pileupcolumn.reference_pos]=pileupcolumn.get_num_aligned() # base coverage\n",
    "    d2[pileupcolumn.reference_pos]=np.mean(pileupcolumn.get_query_qualities()) # base quality\n",
    "    d3[pileupcolumn.reference_pos]=np.mean(pileupcolumn.get_mapping_qualities()) # base mappablity \n",
    "    \n",
    "    i_seq = [x.upper() for x in pileupcolumn.get_query_sequences()]#(mark_matches=True, mark_ends=True,add_indels=True)] \n",
    "    i_read_bases_cnt = Counter(i_seq)\n",
    "    \n",
    "    d4[pileupcolumn.reference_pos]=i_read_bases_cnt.get('G',0) + i_read_bases_cnt.get('C',0)    \n",
    "    \n",
    "    d5[pileupcolumn.reference_pos]=i_read_bases_cnt.get('A',0)\n",
    "    d6[pileupcolumn.reference_pos]=i_read_bases_cnt.get('T',0)\n",
    "    d7[pileupcolumn.reference_pos]=i_read_bases_cnt.get('C',0)\n",
    "    d8[pileupcolumn.reference_pos]=i_read_bases_cnt.get('G',0)\n",
    "\n",
    "feat_dict[chr_id][filed_name1]=d1\n",
    "feat_dict[chr_id][filed_name2]=d2\n",
    "feat_dict[chr_id][filed_name3]=d3\n",
    "feat_dict[chr_id][filed_name4]=d4\n",
    "\n",
    "feat_dict[chr_id][filed_name5]=d5\n",
    "feat_dict[chr_id][filed_name6]=d6\n",
    "feat_dict[chr_id][filed_name7]=d7\n",
    "feat_dict[chr_id][filed_name8]=d8\n",
    "\n",
    "# reference gc \n",
    "ref_basegc_enc = [x.upper() for x in reffile.fetch('chr'+ chr_id)]\n",
    "chr_len = len(ref_basegc_enc)\n",
    "feat_dict[chr_id][filed_name9]=OrderedDict(zip(range(chr_len),ref_basegc_enc))\n",
    "\n",
    "# reference mappabillity\n",
    "with pyBigWig.open(ref_map_f,'r') as bw:\n",
    "    feat_dict[chr_id][filed_name10]=OrderedDict(zip(range(chr_len),bw.values('chr'+ chr_id,0,chr_len-1)))\n",
    "\n",
    "del d1\n",
    "del d2\n",
    "del d3\n",
    "del d4\n",
    "del d5\n",
    "del d6\n",
    "del d7\n",
    "del d8\n"
   ]
  },
  {
   "cell_type": "code",
   "execution_count": 12,
   "metadata": {},
   "outputs": [],
   "source": [
    "# load cnvs\n",
    "chr_cnvs_df = cnvs_dict[chr_id]\n",
    "chr_tu = zip(chr_cnvs_df['POS'].values,chr_cnvs_df['END'].values,chr_cnvs_df['ADJTYPE'].values)\n",
    "\n",
    "feats_pos = np.array(list((feat_dict[chr_id][filed_name1].keys())))\n",
    "feats1 = np.array(list((feat_dict[chr_id][filed_name1].values())))\n",
    "feats2 = np.array(list((feat_dict[chr_id][filed_name2].values())))\n",
    "feats3 = np.array(list((feat_dict[chr_id][filed_name3].values())))\n",
    "feats4 = np.array(list((feat_dict[chr_id][filed_name4].values())))\n",
    "\n",
    "feats5 = np.array(list((feat_dict[chr_id][filed_name5].values())))\n",
    "feats6 = np.array(list((feat_dict[chr_id][filed_name6].values())))\n",
    "feats7 = np.array(list((feat_dict[chr_id][filed_name7].values())))\n",
    "feats8 = np.array(list((feat_dict[chr_id][filed_name8].values())))\n",
    "\n",
    "feats9 = np.array(list((feat_dict[chr_id][filed_name9].values()))) # bases on reference\n",
    "feats10 = np.array(list((feat_dict[chr_id][filed_name10].values())))\n",
    "\n",
    "\n",
    "m_feat = 13-4\n",
    "# only consider the mappped position\n",
    "cnvs_feats={}\n",
    "cnvs_feats[chr_id]=[]\n",
    "for start,end,ty in chr_tu:\n",
    "    i_idx = (feats_pos>=start) & (feats_pos<=end)\n",
    "    f_pos = feats_pos[i_idx]\n",
    "    \n",
    "    f_mat = np.zeros((m_feat,len(f_pos)))\n",
    "    f_mat[0]=feats1[i_idx]\n",
    "    f_mat[1]=feats2[i_idx]\n",
    "    f_mat[2]=feats3[i_idx]\n",
    "    f_mat[3]=feats4[i_idx]\n",
    "    \n",
    "    f_mat[4]=feats5[i_idx]\n",
    "    f_mat[5]=feats6[i_idx]\n",
    "    f_mat[6]=feats7[i_idx]\n",
    "    f_mat[7]=feats8[i_idx]\n",
    "    f_mat[8]=feats10[f_pos]\n",
    "    \n",
    "#     for m,f_base in enumerate(feats9[f_pos]):\n",
    "#         if f_base.upper()=='A':\n",
    "#             f_mat[8,m]=1\n",
    "#         elif f_base.upper()=='T':\n",
    "#             f_mat[9,m]=1\n",
    "#         elif f_base.upper()=='C':\n",
    "#             f_mat[10,m]=1\n",
    "#         elif f_base.upper()=='G':\n",
    "#             f_mat[11,m]=1\n",
    "    \n",
    "    cnvs_feats[chr_id].append((start,end,ty,f_mat))\n",
    "    "
   ]
  },
  {
   "cell_type": "code",
   "execution_count": 13,
   "metadata": {},
   "outputs": [
    {
     "name": "stdout",
     "output_type": "stream",
     "text": [
      "cov,base_qual,map_qual,mappability\n"
     ]
    },
    {
     "ename": "IndexError",
     "evalue": "index 12 is out of bounds for axis 0 with size 9",
     "output_type": "error",
     "traceback": [
      "\u001b[0;31m--------------------------------------------------------\u001b[0m",
      "\u001b[0;31mIndexError\u001b[0m             Traceback (most recent call last)",
      "\u001b[0;32m<ipython-input-13-07928c511f93>\u001b[0m in \u001b[0;36m<module>\u001b[0;34m()\u001b[0m\n\u001b[1;32m      2\u001b[0m     \u001b[0mf_mat\u001b[0m \u001b[0;34m=\u001b[0m \u001b[0mnn\u001b[0m\u001b[0;34m[\u001b[0m\u001b[0;36m3\u001b[0m\u001b[0;34m]\u001b[0m\u001b[0;34m\u001b[0m\u001b[0m\n\u001b[1;32m      3\u001b[0m     \u001b[0mprint\u001b[0m\u001b[0;34m(\u001b[0m\u001b[0;34m'cov,base_qual,map_qual,mappability'\u001b[0m\u001b[0;34m)\u001b[0m\u001b[0;34m\u001b[0m\u001b[0m\n\u001b[0;32m----> 4\u001b[0;31m     \u001b[0mprint\u001b[0m\u001b[0;34m(\u001b[0m\u001b[0mnp\u001b[0m\u001b[0;34m.\u001b[0m\u001b[0mmax\u001b[0m\u001b[0;34m(\u001b[0m\u001b[0mf_mat\u001b[0m\u001b[0;34m[\u001b[0m\u001b[0;36m0\u001b[0m\u001b[0;34m]\u001b[0m\u001b[0;34m)\u001b[0m\u001b[0;34m,\u001b[0m\u001b[0mnp\u001b[0m\u001b[0;34m.\u001b[0m\u001b[0mmax\u001b[0m\u001b[0;34m(\u001b[0m\u001b[0mf_mat\u001b[0m\u001b[0;34m[\u001b[0m\u001b[0;36m1\u001b[0m\u001b[0;34m]\u001b[0m\u001b[0;34m)\u001b[0m\u001b[0;34m,\u001b[0m\u001b[0mnp\u001b[0m\u001b[0;34m.\u001b[0m\u001b[0mmax\u001b[0m\u001b[0;34m(\u001b[0m\u001b[0mf_mat\u001b[0m\u001b[0;34m[\u001b[0m\u001b[0;36m2\u001b[0m\u001b[0;34m]\u001b[0m\u001b[0;34m)\u001b[0m\u001b[0;34m,\u001b[0m\u001b[0mnp\u001b[0m\u001b[0;34m.\u001b[0m\u001b[0mmax\u001b[0m\u001b[0;34m(\u001b[0m\u001b[0mf_mat\u001b[0m\u001b[0;34m[\u001b[0m\u001b[0;36m12\u001b[0m\u001b[0;34m]\u001b[0m\u001b[0;34m)\u001b[0m\u001b[0;34m)\u001b[0m\u001b[0;34m\u001b[0m\u001b[0m\n\u001b[0m",
      "\u001b[0;31mIndexError\u001b[0m: index 12 is out of bounds for axis 0 with size 9"
     ]
    }
   ],
   "source": [
    "for nn in cnvs_feats[chr_id]:\n",
    "    f_mat = nn[3]\n",
    "    print('cov,base_qual,map_qual,mappability')\n",
    "    print(np.max(f_mat[0]),np.max(f_mat[1]),np.max(f_mat[2]),np.max(f_mat[12]))"
   ]
  },
  {
   "cell_type": "code",
   "execution_count": 43,
   "metadata": {},
   "outputs": [
    {
     "data": {
      "text/plain": [
       "<matplotlib.image.AxesImage at 0x7fc7a8bba588>"
      ]
     },
     "execution_count": 43,
     "metadata": {},
     "output_type": "execute_result"
    },
    {
     "data": {
      "text/plain": [
       "<Figure size 1440x1440 with 0 Axes>"
      ]
     },
     "metadata": {},
     "output_type": "display_data"
    },
    {
     "data": {
      "image/png": "[encoded data removed]",
      "text/plain": [
       "<Figure size 1152x144 with 1 Axes>"
      ]
     },
     "metadata": {},
     "output_type": "display_data"
    }
   ],
   "source": [
    "import matplotlib.cm as cm\n",
    "plt.figure(figsize=(20,20))\n",
    "f_mat = cnvs_feats[chr_id][1][3]\n",
    "f_mat = f_mat/np.max(f_mat,axis=1).reshape((13,1))\n",
    "plt.matshow(f_mat)"
   ]
  },
  {
   "cell_type": "code",
   "execution_count": 44,
   "metadata": {},
   "outputs": [
    {
     "name": "stderr",
     "output_type": "stream",
     "text": [
      "/zfssz2/ST_MCHRI/BIGDATA/USER/baiyong/anaconda3/lib/python3.6/site-packages/ipykernel_launcher.py:3: RuntimeWarning: invalid value encountered in true_divide\n",
      "  This is separate from the ipykernel package so we can avoid doing imports until\n"
     ]
    },
    {
     "data": {
      "text/plain": [
       "<matplotlib.image.AxesImage at 0x7fc7a8b8dcc0>"
      ]
     },
     "execution_count": 44,
     "metadata": {},
     "output_type": "execute_result"
    },
    {
     "data": {
      "text/plain": [
       "<Figure size 1440x1440 with 0 Axes>"
      ]
     },
     "metadata": {},
     "output_type": "display_data"
    },
    {
     "data": {
      "image/png": "[encoded data removed]",
      "text/plain": [
       "<Figure size 775.385x288 with 1 Axes>"
      ]
     },
     "metadata": {},
     "output_type": "display_data"
    }
   ],
   "source": [
    "plt.figure(figsize=(20,20))\n",
    "f_mat = cnvs_feats[chr_id][0][3]\n",
    "f_mat = f_mat/np.max(f_mat,axis=1).reshape((13,1))\n",
    "plt.matshow(f_mat)"
   ]
  },
  {
   "cell_type": "code",
   "execution_count": 29,
   "metadata": {},
   "outputs": [],
   "source": [
    "base_x = np.array(list(feat_dict[chr_id][filed_name1].keys()))\n",
    "base_y = np.array(list(feat_dict[chr_id][filed_name1].values()))\n"
   ]
  },
  {
   "cell_type": "code",
   "execution_count": 46,
   "metadata": {},
   "outputs": [
    {
     "data": {
      "text/plain": [
       "array([10510562, 10510563, 10510564, 10510565, 10510566, 10510567,\n",
       "       10510568, 10510569, 10510570, 10510571, 10510572, 10510573,\n",
       "       10510574, 10510575, 10510576, 10510577, 10510578, 10510579,\n",
       "       10510580, 10510581, 10510582, 10510583, 10510584, 10510585,\n",
       "       10510586, 10510587, 10510588, 10510589, 10510590, 10510591,\n",
       "       10510592, 10510593, 10510594, 10510595, 10510596, 10511428,\n",
       "       10511429, 10511430, 10511431, 10511432, 10511433, 10511434,\n",
       "       10511435, 10511436, 10511437, 10511438, 10511439, 10511440,\n",
       "       10511441, 10511442])"
      ]
     },
     "execution_count": 46,
     "metadata": {},
     "output_type": "execute_result"
    }
   ],
   "source": [
    "base_x[:50]"
   ]
  },
  {
   "cell_type": "code",
   "execution_count": 15,
   "metadata": {},
   "outputs": [
    {
     "data": {
      "image/png": "[encoded data removed]",
      "text/plain": [
       "<Figure size 432x288 with 1 Axes>"
      ]
     },
     "metadata": {},
     "output_type": "display_data"
    }
   ],
   "source": [
    "plt.figure(figsize=(20,6))\n",
    "plt.vlines(x=base_x, ymin=0, ymax=base_y)\n",
    "chr_cnvs_tu=zip(chr_cnvs_df['POS'].values, chr_cnvs_df['END'].values, chr_cnvs_df['ADJTYPE'].values)\n",
    "for start,end,ty in chr_cnvs_tu:\n",
    "    if ty=='DEL':\n",
    "        plt.axvline(x=start,c='r')\n",
    "    else ty=='DUP':\n",
    "        plt.axvline(x=start,c='b')"
   ]
  },
  {
   "cell_type": "code",
   "execution_count": 44,
   "metadata": {},
   "outputs": [
    {
     "name": "stdout",
     "output_type": "stream",
     "text": [
      "17289393\n"
     ]
    },
    {
     "data": {
      "image/png": "[encoded data removed]",
      "text/plain": [
       "<Figure size 432x288 with 2 Axes>"
      ]
     },
     "metadata": {},
     "output_type": "display_data"
    }
   ],
   "source": [
    "\n",
    "fig, axs = plt.subplots(2, 1)\n",
    "pads = 50000\n",
    "del_plt = False\n",
    "dup_plt = False\n",
    "chr_cnvs_tu=zip(chr_cnvs_df['POS'].values, chr_cnvs_df['END'].values, chr_cnvs_df['ADJTYPE'].values)\n",
    "for start,end,ty in chr_cnvs_tu:\n",
    "    if end-start<5000:\n",
    "        continue\n",
    "    \n",
    "    if ty=='DEL' and not del_plt:\n",
    "        del_base_x = base_x[(base_x>=start) & (base_x<=end)]\n",
    "        del_base_y = base_y[(base_x>=start) & (base_x<=end)]\n",
    "        axs[0].vlines(x=del_base_x, ymin=0, ymax=del_base_y, colors='r')\n",
    "        \n",
    "        del_base_x_before = base_x[(base_x>=start-pads) & (base_x<start)]\n",
    "        del_base_y_before = base_y[(base_x>=start-pads) & (base_x<start)]\n",
    "        axs[0].vlines(x=del_base_x_before, ymin=0, ymax=del_base_y_before, colors='k')\n",
    "        \n",
    "        del_base_x_end = base_x[(base_x>end) & (base_x<=end+pads)]\n",
    "        del_base_y_end = base_y[(base_x>end) & (base_x<=end+pads)]\n",
    "        \n",
    "        axs[0].vlines(x=del_base_x_end, ymin=0, ymax=del_base_y_end, colors='k')\n",
    "        \n",
    "        \n",
    "        del_plt=True\n",
    "        \n",
    "    if ty=='DUP' and not dup_plt:\n",
    "        \n",
    "        dup_base_x = base_x[(base_x>=start) & (base_x<=end)]\n",
    "        dup_base_y = base_y[(base_x>=start) & (base_x<=end)]\n",
    "        axs[1].vlines(x=dup_base_x, ymin=0, ymax=dup_base_y, colors='b')\n",
    "        \n",
    "        dup_base_x_before = base_x[(base_x>=start-pads) & (base_x<start)]\n",
    "        dup_base_y_before = base_y[(base_x>=start-pads) & (base_x<start)]\n",
    "        axs[1].vlines(x=dup_base_x_before, ymin=0, ymax=dup_base_y_before, colors='k')\n",
    "        \n",
    "        dup_base_x_end = base_x[(base_x>end) & (base_x<=end+pads)]\n",
    "        dup_base_y_end = base_y[(base_x>end) & (base_x<=end+pads)]\n",
    "        \n",
    "        axs[1].vlines(x=dup_base_x_end, ymin=0, ymax=dup_base_y_end, colors='k')\n",
    "        \n",
    "        dup_plt = True"
   ]
  },
  {
   "cell_type": "code",
   "execution_count": 14,
   "metadata": {},
   "outputs": [
    {
     "data": {
      "image/png": "[encoded data removed]",
      "text/plain": [
       "<Figure size 432x288 with 1 Axes>"
      ]
     },
     "metadata": {},
     "output_type": "display_data"
    }
   ],
   "source": [
    "colors=['r', 'b','k']\n",
    "legends=['DUP','DEL', 'NEU']\n",
    "alphas = [1,1,0.01]\n",
    "\n",
    "for i,clr in enumerate(colors):\n",
    "    i_x = base_x[colr==clr]\n",
    "    i_y = base_y[colr==clr]\n",
    "    plt.vlines(x=i_x, ymin=0, ymax=i_y, alpha = alphas[i], colors = clr,linewidth=0.01)\n",
    "\n"
   ]
  },
  {
   "cell_type": "code",
   "execution_count": 9,
   "metadata": {},
   "outputs": [
    {
     "ename": "KeyboardInterrupt",
     "evalue": "",
     "output_type": "error",
     "traceback": [
      "\u001b[0;31m----------------------------------------------------------------\u001b[0m",
      "\u001b[0;31mKeyboardInterrupt\u001b[0m              Traceback (most recent call last)",
      "\u001b[0;32m<ipython-input-9-20b45892b3d2>\u001b[0m in \u001b[0;36m<module>\u001b[0;34m()\u001b[0m\n\u001b[1;32m      1\u001b[0m \u001b[0;32mfor\u001b[0m \u001b[0mi\u001b[0m\u001b[0;34m,\u001b[0m\u001b[0;34m(\u001b[0m\u001b[0mal\u001b[0m\u001b[0;34m,\u001b[0m\u001b[0mclr\u001b[0m\u001b[0;34m)\u001b[0m \u001b[0;32min\u001b[0m \u001b[0menumerate\u001b[0m\u001b[0;34m(\u001b[0m\u001b[0mzip\u001b[0m\u001b[0;34m(\u001b[0m\u001b[0mtran\u001b[0m\u001b[0;34m,\u001b[0m\u001b[0mcolr\u001b[0m\u001b[0;34m)\u001b[0m\u001b[0;34m)\u001b[0m\u001b[0;34m:\u001b[0m\u001b[0;34m\u001b[0m\u001b[0m\n\u001b[0;32m----> 2\u001b[0;31m     \u001b[0mplt\u001b[0m\u001b[0;34m.\u001b[0m\u001b[0mvlines\u001b[0m\u001b[0;34m(\u001b[0m\u001b[0mx\u001b[0m\u001b[0;34m=\u001b[0m\u001b[0mbase_x\u001b[0m\u001b[0;34m[\u001b[0m\u001b[0mi\u001b[0m\u001b[0;34m]\u001b[0m\u001b[0;34m,\u001b[0m \u001b[0mymin\u001b[0m\u001b[0;34m=\u001b[0m\u001b[0;36m0\u001b[0m\u001b[0;34m,\u001b[0m \u001b[0mymax\u001b[0m\u001b[0;34m=\u001b[0m\u001b[0mbase_y\u001b[0m\u001b[0;34m[\u001b[0m\u001b[0mi\u001b[0m\u001b[0;34m]\u001b[0m\u001b[0;34m,\u001b[0m \u001b[0malpha\u001b[0m \u001b[0;34m=\u001b[0m \u001b[0mal\u001b[0m\u001b[0;34m,\u001b[0m \u001b[0mcolors\u001b[0m \u001b[0;34m=\u001b[0m \u001b[0mclr\u001b[0m\u001b[0;34m)\u001b[0m\u001b[0;34m\u001b[0m\u001b[0m\n\u001b[0m",
      "\u001b[0;32m~/anaconda3/lib/python3.6/site-packages/matplotlib/pyplot.py\u001b[0m in \u001b[0;36mvlines\u001b[0;34m(x, ymin, ymax, colors, linestyles, label, hold, data, **kwargs)\u001b[0m\n\u001b[1;32m   3752\u001b[0m     \u001b[0;32mtry\u001b[0m\u001b[0;34m:\u001b[0m\u001b[0;34m\u001b[0m\u001b[0m\n\u001b[1;32m   3753\u001b[0m         ret = ax.vlines(x, ymin, ymax, colors=colors, linestyles=linestyles,\n\u001b[0;32m-> 3754\u001b[0;31m                         label=label, data=data, **kwargs)\n\u001b[0m\u001b[1;32m   3755\u001b[0m     \u001b[0;32mfinally\u001b[0m\u001b[0;34m:\u001b[0m\u001b[0;34m\u001b[0m\u001b[0m\n\u001b[1;32m   3756\u001b[0m         \u001b[0max\u001b[0m\u001b[0;34m.\u001b[0m\u001b[0m_hold\u001b[0m \u001b[0;34m=\u001b[0m \u001b[0mwashold\u001b[0m\u001b[0;34m\u001b[0m\u001b[0m\n",
      "\u001b[0;32m~/anaconda3/lib/python3.6/site-packages/matplotlib/__init__.py\u001b[0m in \u001b[0;36minner\u001b[0;34m(ax, *args, **kwargs)\u001b[0m\n\u001b[1;32m   1853\u001b[0m                         \u001b[0;34m\"the Matplotlib list!)\"\u001b[0m \u001b[0;34m%\u001b[0m \u001b[0;34m(\u001b[0m\u001b[0mlabel_namer\u001b[0m\u001b[0;34m,\u001b[0m \u001b[0mfunc\u001b[0m\u001b[0;34m.\u001b[0m\u001b[0m__name__\u001b[0m\u001b[0;34m)\u001b[0m\u001b[0;34m,\u001b[0m\u001b[0;34m\u001b[0m\u001b[0m\n\u001b[1;32m   1854\u001b[0m                         RuntimeWarning, stacklevel=2)\n\u001b[0;32m-> 1855\u001b[0;31m             \u001b[0;32mreturn\u001b[0m \u001b[0mfunc\u001b[0m\u001b[0;34m(\u001b[0m\u001b[0max\u001b[0m\u001b[0;34m,\u001b[0m \u001b[0;34m*\u001b[0m\u001b[0margs\u001b[0m\u001b[0;34m,\u001b[0m \u001b[0;34m**\u001b[0m\u001b[0mkwargs\u001b[0m\u001b[0;34m)\u001b[0m\u001b[0;34m\u001b[0m\u001b[0m\n\u001b[0m\u001b[1;32m   1856\u001b[0m \u001b[0;34m\u001b[0m\u001b[0m\n\u001b[1;32m   1857\u001b[0m         inner.__doc__ = _add_data_doc(inner.__doc__,\n",
      "\u001b[0;32m~/anaconda3/lib/python3.6/site-packages/matplotlib/axes/_axes.py\u001b[0m in \u001b[0;36mvlines\u001b[0;34m(self, x, ymin, ymax, colors, linestyles, label, **kwargs)\u001b[0m\n\u001b[1;32m   1063\u001b[0m             \u001b[0mcorners\u001b[0m \u001b[0;34m=\u001b[0m \u001b[0;34m(\u001b[0m\u001b[0mminx\u001b[0m\u001b[0;34m,\u001b[0m \u001b[0mminy\u001b[0m\u001b[0;34m)\u001b[0m\u001b[0;34m,\u001b[0m \u001b[0;34m(\u001b[0m\u001b[0mmaxx\u001b[0m\u001b[0;34m,\u001b[0m \u001b[0mmaxy\u001b[0m\u001b[0;34m)\u001b[0m\u001b[0;34m\u001b[0m\u001b[0m\n\u001b[1;32m   1064\u001b[0m             \u001b[0mself\u001b[0m\u001b[0;34m.\u001b[0m\u001b[0mupdate_datalim\u001b[0m\u001b[0;34m(\u001b[0m\u001b[0mcorners\u001b[0m\u001b[0;34m)\u001b[0m\u001b[0;34m\u001b[0m\u001b[0m\n\u001b[0;32m-> 1065\u001b[0;31m             \u001b[0mself\u001b[0m\u001b[0;34m.\u001b[0m\u001b[0mautoscale_view\u001b[0m\u001b[0;34m(\u001b[0m\u001b[0;34m)\u001b[0m\u001b[0;34m\u001b[0m\u001b[0m\n\u001b[0m\u001b[1;32m   1066\u001b[0m \u001b[0;34m\u001b[0m\u001b[0m\n\u001b[1;32m   1067\u001b[0m         \u001b[0;32mreturn\u001b[0m \u001b[0mlines\u001b[0m\u001b[0;34m\u001b[0m\u001b[0m\n",
      "\u001b[0;32m~/anaconda3/lib/python3.6/site-packages/matplotlib/axes/_base.py\u001b[0m in \u001b[0;36mautoscale_view\u001b[0;34m(self, tight, scalex, scaley)\u001b[0m\n\u001b[1;32m   2446\u001b[0m \u001b[0;34m\u001b[0m\u001b[0m\n\u001b[1;32m   2447\u001b[0m         \u001b[0;32mif\u001b[0m \u001b[0mself\u001b[0m\u001b[0;34m.\u001b[0m\u001b[0muse_sticky_edges\u001b[0m \u001b[0;32mand\u001b[0m \u001b[0;34m(\u001b[0m\u001b[0mself\u001b[0m\u001b[0;34m.\u001b[0m\u001b[0m_xmargin\u001b[0m \u001b[0;32mor\u001b[0m \u001b[0mself\u001b[0m\u001b[0;34m.\u001b[0m\u001b[0m_ymargin\u001b[0m\u001b[0;34m)\u001b[0m\u001b[0;34m:\u001b[0m\u001b[0;34m\u001b[0m\u001b[0m\n\u001b[0;32m-> 2448\u001b[0;31m             \u001b[0mstickies\u001b[0m \u001b[0;34m=\u001b[0m \u001b[0;34m[\u001b[0m\u001b[0martist\u001b[0m\u001b[0;34m.\u001b[0m\u001b[0msticky_edges\u001b[0m \u001b[0;32mfor\u001b[0m \u001b[0martist\u001b[0m \u001b[0;32min\u001b[0m \u001b[0mself\u001b[0m\u001b[0;34m.\u001b[0m\u001b[0mget_children\u001b[0m\u001b[0;34m(\u001b[0m\u001b[0;34m)\u001b[0m\u001b[0;34m]\u001b[0m\u001b[0;34m\u001b[0m\u001b[0m\n\u001b[0m\u001b[1;32m   2449\u001b[0m             \u001b[0mx_stickies\u001b[0m \u001b[0;34m=\u001b[0m \u001b[0msum\u001b[0m\u001b[0;34m(\u001b[0m\u001b[0;34m[\u001b[0m\u001b[0msticky\u001b[0m\u001b[0;34m.\u001b[0m\u001b[0mx\u001b[0m \u001b[0;32mfor\u001b[0m \u001b[0msticky\u001b[0m \u001b[0;32min\u001b[0m \u001b[0mstickies\u001b[0m\u001b[0;34m]\u001b[0m\u001b[0;34m,\u001b[0m \u001b[0;34m[\u001b[0m\u001b[0;34m]\u001b[0m\u001b[0;34m)\u001b[0m\u001b[0;34m\u001b[0m\u001b[0m\n\u001b[1;32m   2450\u001b[0m             \u001b[0my_stickies\u001b[0m \u001b[0;34m=\u001b[0m \u001b[0msum\u001b[0m\u001b[0;34m(\u001b[0m\u001b[0;34m[\u001b[0m\u001b[0msticky\u001b[0m\u001b[0;34m.\u001b[0m\u001b[0my\u001b[0m \u001b[0;32mfor\u001b[0m \u001b[0msticky\u001b[0m \u001b[0;32min\u001b[0m \u001b[0mstickies\u001b[0m\u001b[0;34m]\u001b[0m\u001b[0;34m,\u001b[0m \u001b[0;34m[\u001b[0m\u001b[0;34m]\u001b[0m\u001b[0;34m)\u001b[0m\u001b[0;34m\u001b[0m\u001b[0m\n",
      "\u001b[0;32m~/anaconda3/lib/python3.6/site-packages/matplotlib/axes/_base.py\u001b[0m in \u001b[0;36m<listcomp>\u001b[0;34m(.0)\u001b[0m\n\u001b[1;32m   2446\u001b[0m \u001b[0;34m\u001b[0m\u001b[0m\n\u001b[1;32m   2447\u001b[0m         \u001b[0;32mif\u001b[0m \u001b[0mself\u001b[0m\u001b[0;34m.\u001b[0m\u001b[0muse_sticky_edges\u001b[0m \u001b[0;32mand\u001b[0m \u001b[0;34m(\u001b[0m\u001b[0mself\u001b[0m\u001b[0;34m.\u001b[0m\u001b[0m_xmargin\u001b[0m \u001b[0;32mor\u001b[0m \u001b[0mself\u001b[0m\u001b[0;34m.\u001b[0m\u001b[0m_ymargin\u001b[0m\u001b[0;34m)\u001b[0m\u001b[0;34m:\u001b[0m\u001b[0;34m\u001b[0m\u001b[0m\n\u001b[0;32m-> 2448\u001b[0;31m             \u001b[0mstickies\u001b[0m \u001b[0;34m=\u001b[0m \u001b[0;34m[\u001b[0m\u001b[0martist\u001b[0m\u001b[0;34m.\u001b[0m\u001b[0msticky_edges\u001b[0m \u001b[0;32mfor\u001b[0m \u001b[0martist\u001b[0m \u001b[0;32min\u001b[0m \u001b[0mself\u001b[0m\u001b[0;34m.\u001b[0m\u001b[0mget_children\u001b[0m\u001b[0;34m(\u001b[0m\u001b[0;34m)\u001b[0m\u001b[0;34m]\u001b[0m\u001b[0;34m\u001b[0m\u001b[0m\n\u001b[0m\u001b[1;32m   2449\u001b[0m             \u001b[0mx_stickies\u001b[0m \u001b[0;34m=\u001b[0m \u001b[0msum\u001b[0m\u001b[0;34m(\u001b[0m\u001b[0;34m[\u001b[0m\u001b[0msticky\u001b[0m\u001b[0;34m.\u001b[0m\u001b[0mx\u001b[0m \u001b[0;32mfor\u001b[0m \u001b[0msticky\u001b[0m \u001b[0;32min\u001b[0m \u001b[0mstickies\u001b[0m\u001b[0;34m]\u001b[0m\u001b[0;34m,\u001b[0m \u001b[0;34m[\u001b[0m\u001b[0;34m]\u001b[0m\u001b[0;34m)\u001b[0m\u001b[0;34m\u001b[0m\u001b[0m\n\u001b[1;32m   2450\u001b[0m             \u001b[0my_stickies\u001b[0m \u001b[0;34m=\u001b[0m \u001b[0msum\u001b[0m\u001b[0;34m(\u001b[0m\u001b[0;34m[\u001b[0m\u001b[0msticky\u001b[0m\u001b[0;34m.\u001b[0m\u001b[0my\u001b[0m \u001b[0;32mfor\u001b[0m \u001b[0msticky\u001b[0m \u001b[0;32min\u001b[0m \u001b[0mstickies\u001b[0m\u001b[0;34m]\u001b[0m\u001b[0;34m,\u001b[0m \u001b[0;34m[\u001b[0m\u001b[0;34m]\u001b[0m\u001b[0;34m)\u001b[0m\u001b[0;34m\u001b[0m\u001b[0m\n",
      "\u001b[0;32m~/anaconda3/lib/python3.6/site-packages/matplotlib/artist.py\u001b[0m in \u001b[0;36msticky_edges\u001b[0;34m(self)\u001b[0m\n\u001b[1;32m    959\u001b[0m \u001b[0;34m\u001b[0m\u001b[0m\n\u001b[1;32m    960\u001b[0m         \"\"\"\n\u001b[0;32m--> 961\u001b[0;31m         \u001b[0;32mreturn\u001b[0m \u001b[0mself\u001b[0m\u001b[0;34m.\u001b[0m\u001b[0m_sticky_edges\u001b[0m\u001b[0;34m\u001b[0m\u001b[0m\n\u001b[0m\u001b[1;32m    962\u001b[0m \u001b[0;34m\u001b[0m\u001b[0m\n\u001b[1;32m    963\u001b[0m     \u001b[0;32mdef\u001b[0m \u001b[0mupdate_from\u001b[0m\u001b[0;34m(\u001b[0m\u001b[0mself\u001b[0m\u001b[0;34m,\u001b[0m \u001b[0mother\u001b[0m\u001b[0;34m)\u001b[0m\u001b[0;34m:\u001b[0m\u001b[0;34m\u001b[0m\u001b[0m\n",
      "\u001b[0;31mKeyboardInterrupt\u001b[0m: "
     ]
    },
    {
     "data": {
      "image/png": "[encoded data removed]",
      "text/plain": [
       "<Figure size 432x288 with 1 Axes>"
      ]
     },
     "metadata": {},
     "output_type": "display_data"
    }
   ],
   "source": [
    "for i,(al,clr) in enumerate(zip(tran,colr)):\n",
    "    plt.vlines(x=base_x[i], ymin=0, ymax=base_y[i], alpha = al, colors = clr)"
   ]
  },
  {
   "cell_type": "code",
   "execution_count": null,
   "metadata": {},
   "outputs": [],
   "source": [
    "len(base_y)"
   ]
  },
  {
   "cell_type": "code",
   "execution_count": null,
   "metadata": {},
   "outputs": [],
   "source": [
    "its=bamfile.pileup('chr22')\n",
    "for pileupcolumn in its:\n",
    "    print (\"\\ncoverage at base %s = %s, %s\" %\n",
    "           (pileupcolumn.pos, pileupcolumn.n,pileupcolumn.get_num_aligned()))\n",
    "    for pileupread in pileupcolumn.pileups:\n",
    "        if not pileupread.is_del and not pileupread.is_refskip:\n",
    "            # query position is None if is_del or is_refskip is set.\n",
    "            print ('\\tbase in read %s = %s' %\n",
    "                  (pileupread.alignment.query_name,\n",
    "                   pileupread.alignment.query_sequence[pileupread.query_position]))"
   ]
  },
  {
   "cell_type": "code",
   "execution_count": 1,
   "metadata": {},
   "outputs": [],
   "source": [
    "\n",
    "# bamfile.close()"
   ]
  },
  {
   "cell_type": "code",
   "execution_count": null,
   "metadata": {},
   "outputs": [],
   "source": [
    "bamfile.close()\n",
    "reffile.close()"
   ]
  },
  {
   "cell_type": "code",
   "execution_count": 39,
   "metadata": {},
   "outputs": [
    {
     "name": "stdout",
     "output_type": "stream",
     "text": [
      "OrderedDict([('Apple', 5), ('Banana', 95), ('Orange', 2), ('Mango', 7)])\n",
      "['Apple', 'Banana', 'Orange', 'Mango']\n"
     ]
    }
   ],
   "source": [
    "import collections\n",
    "d={\n",
    "    \"Apple\": 5,\n",
    "    \"Banana\": 95,\n",
    "    \"Orange\": 2,\n",
    "    \"Mango\": 7\n",
    "}\n",
    "# sorted the dictionary by value using OrderedDict\n",
    "od = collections.OrderedDict(d)\n",
    "print(od)\n",
    "# OrderedDict([('Orange', 2), ('Apple', 5), ('Mango', 7), ('Banana', 95)])\n",
    "sorted_fruit_list = list(od.keys())\n",
    "print(sorted_fruit_list)"
   ]
  },
  {
   "cell_type": "code",
   "execution_count": 41,
   "metadata": {},
   "outputs": [
    {
     "data": {
      "text/plain": [
       "odict_values([5, 95, 2, 7])"
      ]
     },
     "execution_count": 41,
     "metadata": {},
     "output_type": "execute_result"
    }
   ],
   "source": [
    "val = od.values()\n",
    "val"
   ]
  },
  {
   "cell_type": "code",
   "execution_count": null,
   "metadata": {},
   "outputs": [],
   "source": []
  }
 ],
 "metadata": {
  "kernelspec": {
   "display_name": "Python 3",
   "language": "python",
   "name": "python3"
  },
  "language_info": {
   "codemirror_mode": {
    "name": "ipython",
    "version": 3
   },
   "file_extension": ".py",
   "mimetype": "text/x-python",
   "name": "python",
   "nbconvert_exporter": "python",
   "pygments_lexer": "ipython3",
   "version": "3.6.5"
  }
 },
 "nbformat": 4,
 "nbformat_minor": 2
}
