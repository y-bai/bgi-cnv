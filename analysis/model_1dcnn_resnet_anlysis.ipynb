{
 "cells": [
  {
   "cell_type": "code",
   "execution_count": 1,
   "metadata": {},
   "outputs": [],
   "source": [
    "import numpy as np"
   ]
  },
  {
   "cell_type": "code",
   "execution_count": 2,
   "metadata": {},
   "outputs": [],
   "source": [
    "pred_result_fn = '/zfssz2/ST_MCHRI/BIGDATA/PROJECT/NIPT_CNV/1dcnn_resnet/models/test0.10_win1000_minsize160000_pred.npz'\n",
    "with np.load(pred_result_fn) as pred_result:\n",
    "    ypred=pred_result['ypred']\n",
    "    ytrue=pred_result['ytrue']\n",
    "    "
   ]
  },
  {
   "cell_type": "code",
   "execution_count": 4,
   "metadata": {},
   "outputs": [],
   "source": [
    "ypred_l = np.argmax(ypred, axis=1)\n",
    "ytrue_l = np.argmax(ytrue, axis=1)\n"
   ]
  },
  {
   "cell_type": "code",
   "execution_count": 12,
   "metadata": {},
   "outputs": [],
   "source": [
    "from sklearn.metrics import confusion_matrix\n",
    "from sklearn.metrics import classification_report\n",
    "#from pandas_ml import ConfusionMatrix\n",
    "from sklearn.utils.multiclass import unique_labels\n",
    "import matplotlib.pyplot as plt\n",
    "import seaborn as sns\n",
    "%matplotlib inline\n",
    "\n",
    "def plot_confusion_matrix(y_true, y_pred, classes,\n",
    "                          normalize=False,\n",
    "                          title=None,\n",
    "                          cmap=plt.cm.Blues):\n",
    "    \"\"\"\n",
    "    This function prints and plots the confusion matrix.\n",
    "    Normalization can be applied by setting `normalize=True`.\n",
    "    \"\"\"\n",
    "    if not title:\n",
    "        if normalize:\n",
    "            title = 'Normalized confusion matrix'\n",
    "        else:\n",
    "            title = 'Confusion matrix, without normalization'\n",
    "\n",
    "    # Compute confusion matrix\n",
    "    cm = confusion_matrix(y_true, y_pred)\n",
    "    # Only use the labels that appear in the data\n",
    "    classes = classes[unique_labels(y_true, y_pred)]\n",
    "    if normalize:\n",
    "        cm = cm.astype('float') / cm.sum(axis=1)[:, np.newaxis]\n",
    "        print(\"Normalized confusion matrix\")\n",
    "    else:\n",
    "        print('Confusion matrix, without normalization')\n",
    "\n",
    "    print(cm)\n",
    "\n",
    "    fig, ax = plt.subplots()\n",
    "    im = ax.imshow(cm, interpolation='nearest', cmap=cmap)\n",
    "    ax.figure.colorbar(im, ax=ax)\n",
    "    # We want to show all ticks...\n",
    "    ax.set(xticks=np.arange(cm.shape[1]),\n",
    "           yticks=np.arange(cm.shape[0]),\n",
    "           # ... and label them with the respective list entries\n",
    "           xticklabels=classes, yticklabels=classes,\n",
    "           title=title,\n",
    "           ylabel='True label',\n",
    "           xlabel='Predicted label')\n",
    "\n",
    "    # Rotate the tick labels and set their alignment.\n",
    "    plt.setp(ax.get_xticklabels(), rotation=45, ha=\"right\",\n",
    "             rotation_mode=\"anchor\")\n",
    "\n",
    "    # Loop over data dimensions and create text annotations.\n",
    "    fmt = '.4f' if normalize else 'd'\n",
    "    thresh = cm.max() / 2.\n",
    "    for i in range(cm.shape[0]):\n",
    "        for j in range(cm.shape[1]):\n",
    "            ax.text(j, i, format(cm[i, j], fmt),\n",
    "                    ha=\"center\", va=\"center\",\n",
    "                    color=\"white\" if cm[i, j] > thresh else \"black\")\n",
    "    fig.tight_layout()\n",
    "    return ax"
   ]
  },
  {
   "cell_type": "code",
   "execution_count": 13,
   "metadata": {},
   "outputs": [
    {
     "name": "stdout",
     "output_type": "stream",
     "text": [
      "Normalized confusion matrix\n",
      "[[0.95492671 0.03386145 0.01121184]\n",
      " [0.01126574 0.96365636 0.0250779 ]\n",
      " [0.00502055 0.0360702  0.95890925]]\n"
     ]
    },
    {
     "data": {
      "text/plain": [
       "<matplotlib.axes._subplots.AxesSubplot at 0x7ffa2e2a87b8>"
      ]
     },
     "execution_count": 13,
     "metadata": {},
     "output_type": "execute_result"
    },
    {
     "data": {
      "image/png": "[encoded data removed]",
      "text/plain": [
       "<Figure size 432x288 with 2 Axes>"
      ]
     },
     "metadata": {},
     "output_type": "display_data"
    }
   ],
   "source": [
    "\n",
    "class_names=np.array(['NEU','DEL','DUP'])\n",
    "plot_confusion_matrix(ytrue_l, ypred_l, classes=class_names, normalize=True,title='CNV predict')\n"
   ]
  },
  {
   "cell_type": "code",
   "execution_count": 1,
   "metadata": {},
   "outputs": [],
   "source": [
    "#  calculate \n",
    "def get_cls_reports(y_true,y_pred):\n",
    "    cm = confusion_matrix(y_true, y_pred)\n",
    "    \n",
    "    FP = cm.sum(axis=0) - np.diag(cm)  \n",
    "    FN = cm.sum(axis=1) - np.diag(cm)\n",
    "    TP = np.diag(cm)\n",
    "    TN = cm.sum() - (FP + FN + TP)\n",
    "    \n",
    "    # Sensitivity, hit rate, recall, or true positive rate\n",
    "    TPR = TP/(TP+FN)\n",
    "    \n",
    "    # Specificity or true negative rate\n",
    "    TNR = TN/(TN+FP) \n",
    "    \n",
    "    # Precision or positive predictive value\n",
    "    PPV = TP/(TP+FP)\n",
    "\n",
    "    # Negative predictive value\n",
    "    NPV = TN/(TN+FN)\n",
    "\n",
    "    # Fall out or false positive rate\n",
    "    FPR = FP/(FP+TN)\n",
    "\n",
    "    # False negative rate or Miss Rate\n",
    "    FNR = FN/(TP+FN)\n",
    "    \n",
    "    # False discovery rate\n",
    "    FDR = FP/(TP+FP)\n",
    "    \n",
    "    # Overall accuracy\n",
    "    ACC = (TP+TN)/(TP+FP+FN+TN)\n",
    "    \n",
    "    return (TPR, TNR, PPV,NPV,FPR,FNR,FDR,ACC)"
   ]
  },
  {
   "cell_type": "code",
   "execution_count": 15,
   "metadata": {},
   "outputs": [
    {
     "name": "stderr",
     "output_type": "stream",
     "text": [
      "/zfssz2/ST_MCHRI/BIGDATA/USER/baiyong/anaconda3/lib/python3.6/site-packages/pandas_ml/confusion_matrix/stats.py:60: FutureWarning: supplying multiple axes to axis is deprecated and will be removed in a future version.\n",
      "  num = df[df > 1].dropna(axis=[0, 1], thresh=1).applymap(lambda n: choose(n, 2)).sum().sum() - np.float64(nis2 * njs2) / n2\n",
      "/zfssz2/ST_MCHRI/BIGDATA/USER/baiyong/anaconda3/lib/python3.6/site-packages/pandas_ml/confusion_matrix/stats.py:60: RuntimeWarning: overflow encountered in long_scalars\n",
      "  num = df[df > 1].dropna(axis=[0, 1], thresh=1).applymap(lambda n: choose(n, 2)).sum().sum() - np.float64(nis2 * njs2) / n2\n",
      "/zfssz2/ST_MCHRI/BIGDATA/USER/baiyong/anaconda3/lib/python3.6/site-packages/pandas_ml/confusion_matrix/stats.py:61: RuntimeWarning: overflow encountered in long_scalars\n",
      "  den = (np.float64(nis2 + njs2) / 2 - np.float64(nis2 * njs2) / n2)\n",
      "/zfssz2/ST_MCHRI/BIGDATA/USER/baiyong/anaconda3/lib/python3.6/site-packages/pandas_ml/confusion_matrix/bcm.py:302: RuntimeWarning: overflow encountered in long_scalars\n",
      "  * (self.TN + self.FP) * (self.TN + self.FN)))\n"
     ]
    },
    {
     "name": "stdout",
     "output_type": "stream",
     "text": [
      "Confusion Matrix:\n",
      "\n",
      "Predicted      0       1       2  __all__\n",
      "Actual                                   \n",
      "0          67626    2398     794    70818\n",
      "1           2274  194515    5062   201851\n",
      "2           1859   13356  355063   370278\n",
      "__all__    71759  210269  360919   642947\n",
      "\n",
      "\n",
      "Overall Statistics:\n",
      "\n",
      "Accuracy: 0.9599609299055755\n",
      "95% CI: (0.9594788617031612, 0.9604388480631074)\n",
      "No Information Rate: ToDo\n",
      "P-Value [Acc > NIR]: 0.0\n",
      "Kappa: 0.9287240754346627\n",
      "Mcnemar's Test P-Value: ToDo\n",
      "\n",
      "\n",
      "Class Statistics:\n",
      "\n",
      "Classes                                         0          1          2\n",
      "Population                                 642947     642947     642947\n",
      "P: Condition positive                       70818     201851     370278\n",
      "N: Condition negative                      572129     441096     272669\n",
      "Test outcome positive                       71759     210269     360919\n",
      "Test outcome negative                      571188     432678     282028\n",
      "TP: True Positive                           67626     194515     355063\n",
      "TN: True Negative                          567996     425342     266813\n",
      "FP: False Positive                           4133      15754       5856\n",
      "FN: False Negative                           3192       7336      15215\n",
      "TPR: (Sensitivity, hit rate, recall)     0.954927   0.963656   0.958909\n",
      "TNR=SPC: (Specificity)                   0.992776   0.964284   0.978523\n",
      "PPV: Pos Pred Value (Precision)          0.942404   0.925077   0.983775\n",
      "NPV: Neg Pred Value                      0.994412   0.983045   0.946051\n",
      "FPR: False-out                          0.0072239  0.0357156  0.0214766\n",
      "FDR: False Discovery Rate               0.0575956  0.0749231  0.0162252\n",
      "FNR: Miss Rate                          0.0450733  0.0363436  0.0410907\n",
      "ACC: Accuracy                            0.988607   0.964087   0.967227\n",
      "F1 score                                 0.948624   0.943973   0.971183\n",
      "MCC: Matthews correlation coefficient     54.2897    55.2643    64.5967\n",
      "Informedness                             0.947703   0.927941   0.937433\n",
      "Markedness                               0.936816   0.908122   0.929826\n",
      "Prevalence                               0.110146   0.313947   0.575908\n",
      "LR+: Positive likelihood ratio             132.19    26.9814     44.649\n",
      "LR-: Negative likelihood ratio          0.0454013  0.0376898  0.0419926\n",
      "DOR: Diagnostic odds ratio                2911.59    715.882    1063.26\n",
      "FOR: False omission rate               0.00558835  0.0169549  0.0539485\n"
     ]
    }
   ],
   "source": [
    "from pandas_ml import ConfusionMatrix\n",
    "# from pycm import ConfusionMatrix\n",
    "confusion_matrix = ConfusionMatrix(ytrue_l, ypred_l)\n",
    "confusion_matrix.print_stats()"
   ]
  },
  {
   "cell_type": "code",
   "execution_count": 47,
   "metadata": {},
   "outputs": [
    {
     "data": {
      "text/html": [
       "<div>\n",
       "<style scoped>\n",
       "    .dataframe tbody tr th:only-of-type {\n",
       "        vertical-align: middle;\n",
       "    }\n",
       "\n",
       "    .dataframe tbody tr th {\n",
       "        vertical-align: top;\n",
       "    }\n",
       "\n",
       "    .dataframe thead th {\n",
       "        text-align: right;\n",
       "    }\n",
       "</style>\n",
       "<table border=\"1\" class=\"dataframe\">\n",
       "  <thead>\n",
       "    <tr style=\"text-align: right;\">\n",
       "      <th></th>\n",
       "      <th>Epoch</th>\n",
       "      <th>N_Epoch</th>\n",
       "      <th>Kfold</th>\n",
       "      <th>train_loss</th>\n",
       "      <th>train_acc</th>\n",
       "      <th>val_loss</th>\n",
       "      <th>val_acc</th>\n",
       "    </tr>\n",
       "  </thead>\n",
       "  <tbody>\n",
       "    <tr>\n",
       "      <th>0</th>\n",
       "      <td>Epoch</td>\n",
       "      <td>1</td>\n",
       "      <td>1</td>\n",
       "      <td>0.9569</td>\n",
       "      <td>0.5968</td>\n",
       "      <td>0.8821</td>\n",
       "      <td>0.6171</td>\n",
       "    </tr>\n",
       "    <tr>\n",
       "      <th>1</th>\n",
       "      <td>Epoch</td>\n",
       "      <td>2</td>\n",
       "      <td>1</td>\n",
       "      <td>0.7587</td>\n",
       "      <td>0.6652</td>\n",
       "      <td>0.7618</td>\n",
       "      <td>0.6579</td>\n",
       "    </tr>\n",
       "    <tr>\n",
       "      <th>2</th>\n",
       "      <td>Epoch</td>\n",
       "      <td>3</td>\n",
       "      <td>1</td>\n",
       "      <td>0.7516</td>\n",
       "      <td>0.6744</td>\n",
       "      <td>0.8258</td>\n",
       "      <td>0.6180</td>\n",
       "    </tr>\n",
       "    <tr>\n",
       "      <th>3</th>\n",
       "      <td>Epoch</td>\n",
       "      <td>4</td>\n",
       "      <td>1</td>\n",
       "      <td>0.6648</td>\n",
       "      <td>0.7131</td>\n",
       "      <td>0.6313</td>\n",
       "      <td>0.7316</td>\n",
       "    </tr>\n",
       "    <tr>\n",
       "      <th>4</th>\n",
       "      <td>Epoch</td>\n",
       "      <td>5</td>\n",
       "      <td>1</td>\n",
       "      <td>0.5236</td>\n",
       "      <td>0.7867</td>\n",
       "      <td>0.4535</td>\n",
       "      <td>0.8258</td>\n",
       "    </tr>\n",
       "  </tbody>\n",
       "</table>\n",
       "</div>"
      ],
      "text/plain": [
       "   Epoch N_Epoch  Kfold  train_loss  train_acc  val_loss  val_acc\n",
       "0  Epoch       1      1      0.9569     0.5968    0.8821   0.6171\n",
       "1  Epoch       2      1      0.7587     0.6652    0.7618   0.6579\n",
       "2  Epoch       3      1      0.7516     0.6744    0.8258   0.6180\n",
       "3  Epoch       4      1      0.6648     0.7131    0.6313   0.7316\n",
       "4  Epoch       5      1      0.5236     0.7867    0.4535   0.8258"
      ]
     },
     "execution_count": 47,
     "metadata": {},
     "output_type": "execute_result"
    }
   ],
   "source": [
    "# train result\n",
    "import pandas as pd\n",
    "train_result_fn = '/zfssz2/ST_MCHRI/BIGDATA/PROJECT/NIPT_CNV/1dcnn_resnet/models/train.log.tsv'\n",
    "train_acc = pd.read_csv(train_result_fn, sep='\\s+', header=None)\n",
    "train_acc.columns=['Epoch','N_Epoch','Kfold','train_loss', 'train_acc','val_loss','val_acc']\n",
    "train_acc['N_Epoch'] = train_acc['N_Epoch'].str.split('/').str[0]\n",
    "train_acc['N_Epoch'].astype(int)\n",
    "train_acc.head()\n",
    "\n"
   ]
  },
  {
   "cell_type": "code",
   "execution_count": 48,
   "metadata": {},
   "outputs": [],
   "source": [
    "train_re = train_acc[train_acc['Kfold']==1]\n"
   ]
  },
  {
   "cell_type": "code",
   "execution_count": 60,
   "metadata": {},
   "outputs": [
    {
     "data": {
      "text/plain": [
       "[Text(0,0,'1'),\n",
       " Text(0,0,'2'),\n",
       " Text(0,0,'3'),\n",
       " Text(0,0,'4'),\n",
       " Text(0,0,'5'),\n",
       " Text(0,0,'6'),\n",
       " Text(0,0,'7'),\n",
       " Text(0,0,'8'),\n",
       " Text(0,0,'9'),\n",
       " Text(0,0,'10'),\n",
       " Text(0,0,'11'),\n",
       " Text(0,0,'12'),\n",
       " Text(0,0,'13'),\n",
       " Text(0,0,'14'),\n",
       " Text(0,0,'15'),\n",
       " Text(0,0,'16'),\n",
       " Text(0,0,'17'),\n",
       " Text(0,0,'18'),\n",
       " Text(0,0,'19'),\n",
       " Text(0,0,'20')]"
      ]
     },
     "execution_count": 60,
     "metadata": {},
     "output_type": "execute_result"
    },
    {
     "data": {
      "image/png": "[encoded data removed]",
      "text/plain": [
       "<Figure size 432x288 with 1 Axes>"
      ]
     },
     "metadata": {},
     "output_type": "display_data"
    }
   ],
   "source": [
    "fig, ax = plt.subplots()\n",
    "train_re.plot(ax=ax, kind='line',x='N_Epoch', y='train_loss', label='training loss')\n",
    "train_re.plot(ax=ax, kind='line',x='N_Epoch', y='val_loss', label='validation loss')\n",
    "ax.set_xlabel(\"epoch\")\n",
    "ax.set_xticks(train_re.index)\n",
    "ax.set_xticklabels(train_re['N_Epoch'])\n"
   ]
  },
  {
   "cell_type": "code",
   "execution_count": 61,
   "metadata": {},
   "outputs": [
    {
     "data": {
      "text/plain": [
       "[Text(0,0,'1'),\n",
       " Text(0,0,'2'),\n",
       " Text(0,0,'3'),\n",
       " Text(0,0,'4'),\n",
       " Text(0,0,'5'),\n",
       " Text(0,0,'6'),\n",
       " Text(0,0,'7'),\n",
       " Text(0,0,'8'),\n",
       " Text(0,0,'9'),\n",
       " Text(0,0,'10'),\n",
       " Text(0,0,'11'),\n",
       " Text(0,0,'12'),\n",
       " Text(0,0,'13'),\n",
       " Text(0,0,'14'),\n",
       " Text(0,0,'15'),\n",
       " Text(0,0,'16'),\n",
       " Text(0,0,'17'),\n",
       " Text(0,0,'18'),\n",
       " Text(0,0,'19'),\n",
       " Text(0,0,'20')]"
      ]
     },
     "execution_count": 61,
     "metadata": {},
     "output_type": "execute_result"
    },
    {
     "data": {
      "image/png": "[encoded data removed]",
      "text/plain": [
       "<Figure size 432x288 with 1 Axes>"
      ]
     },
     "metadata": {},
     "output_type": "display_data"
    }
   ],
   "source": [
    "fig, ax = plt.subplots()\n",
    "train_re.plot(ax=ax, kind='line',x='N_Epoch', y='train_acc', label='training accuracy')\n",
    "train_re.plot(ax=ax, kind='line',x='N_Epoch', y='val_acc', label='validation accuracy')\n",
    "ax.set_xlabel(\"epoch\")\n",
    "ax.set_xticks(train_re.index)\n",
    "ax.set_xticklabels(train_re['N_Epoch'])"
   ]
  },
  {
   "cell_type": "code",
   "execution_count": null,
   "metadata": {},
   "outputs": [],
   "source": []
  }
 ],
 "metadata": {
  "kernelspec": {
   "display_name": "Python 3",
   "language": "python",
   "name": "python3"
  },
  "language_info": {
   "codemirror_mode": {
    "name": "ipython",
    "version": 3
   },
   "file_extension": ".py",
   "mimetype": "text/x-python",
   "name": "python",
   "nbconvert_exporter": "python",
   "pygments_lexer": "ipython3",
   "version": "3.6.5"
  }
 },
 "nbformat": 4,
 "nbformat_minor": 2
}
